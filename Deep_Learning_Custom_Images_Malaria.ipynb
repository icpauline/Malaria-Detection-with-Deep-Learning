{
  "cells": [
    {
      "cell_type": "markdown",
      "metadata": {
        "id": "view-in-github",
        "colab_type": "text"
      },
      "source": [
        "<a href=\"https://colab.research.google.com/github/icpauline/Malaria-Detection-with-Deep-Learning/blob/main/Deep_Learning_Custom_Images_Malaria.ipynb\" target=\"_parent\"><img src=\"https://colab.research.google.com/assets/colab-badge.svg\" alt=\"Open In Colab\"/></a>"
      ]
    },
    {
      "cell_type": "code",
      "execution_count": null,
      "metadata": {
        "id": "D2lenntGlk41"
      },
      "outputs": [],
      "source": [
        "ORIGINAL DATA SOURCE: This Dataset is taken from the official NIH Website: https://ceb.nlm.nih.gov/repositories/malaria-datasets/\n",
        "\n",
        "\n",
        "The dataset contains 2 folders - Infected - Uninfected\n",
        "\n",
        "And a total of 27,558 images.\n",
        "\n",
        "\n",
        "\n"
      ]
    },
    {
      "cell_type": "markdown",
      "source": [],
      "metadata": {
        "id": "yyReJWtyHJTz"
      }
    },
    {
      "cell_type": "markdown",
      "metadata": {
        "id": "19F9zuKzmFCt"
      },
      "source": [
        "ORIGINAL DATA SOURCE: This Dataset is taken from the official NIH Website: https://ceb.nlm.nih.gov/repositories/malaria-datasets/\n",
        "\n",
        "\n",
        "The dataset contains 2 folders - Infected - Uninfected\n",
        "and a total of 27,558 images.\n",
        "\n",
        "**Task : To identify whether the person is affected by Malaria or not from the input image.**\n",
        "\n",
        "\n"
      ]
    },
    {
      "cell_type": "markdown",
      "metadata": {
        "id": "-Do_Mi_5mC2-"
      },
      "source": []
    },
    {
      "cell_type": "code",
      "execution_count": null,
      "metadata": {
        "id": "YnQU3HV5lXjX"
      },
      "outputs": [],
      "source": [
        "import os\n",
        "import pandas as pd\n",
        "import numpy as np\n",
        "import seaborn as sns\n",
        "import matplotlib.pyplot as plt\n",
        "from matplotlib.image import imread\n",
        "%matplotlib inline"
      ]
    },
    {
      "cell_type": "code",
      "execution_count": null,
      "metadata": {
        "id": "uHqWVayDlXja"
      },
      "outputs": [],
      "source": [
        "my_data_dir = '/content/drive/MyDrive/Deep Learning/cell_images/cell_images'"
      ]
    },
    {
      "cell_type": "code",
      "execution_count": null,
      "metadata": {
        "colab": {
          "base_uri": "https://localhost:8080/"
        },
        "id": "7BE3BoLIrvhh",
        "outputId": "77787cce-3bdc-4c6a-d238-d4653dd521bf"
      },
      "outputs": [
        {
          "output_type": "stream",
          "name": "stdout",
          "text": [
            "Mounted at /content/drive\n"
          ]
        }
      ],
      "source": [
        "from google.colab import drive\n",
        "drive.mount('/content/drive')"
      ]
    },
    {
      "cell_type": "code",
      "execution_count": null,
      "metadata": {
        "colab": {
          "base_uri": "https://localhost:8080/"
        },
        "id": "qxwXxKA4lXjb",
        "outputId": "6b025b09-a2fa-4f55-a03c-d0a5593debea"
      },
      "outputs": [
        {
          "output_type": "execute_result",
          "data": {
            "text/plain": [
              "['test', 'train']"
            ]
          },
          "metadata": {},
          "execution_count": 5
        }
      ],
      "source": [
        "# CONFIRM THAT THIS REPORTS BACK 'test', and 'train'\n",
        "os.listdir(my_data_dir) "
      ]
    },
    {
      "cell_type": "code",
      "execution_count": null,
      "metadata": {
        "id": "xKO6UAaGlXjd"
      },
      "outputs": [],
      "source": [
        "test_path = my_data_dir+'/test/'\n",
        "train_path = my_data_dir+'/train/'"
      ]
    },
    {
      "cell_type": "code",
      "execution_count": null,
      "metadata": {
        "colab": {
          "base_uri": "https://localhost:8080/"
        },
        "id": "8m5zVbIclXje",
        "outputId": "c7535a68-e2d8-48d5-d4ca-788067efa1e3"
      },
      "outputs": [
        {
          "output_type": "execute_result",
          "data": {
            "text/plain": [
              "['uninfected', 'parasitized']"
            ]
          },
          "metadata": {},
          "execution_count": 7
        }
      ],
      "source": [
        "os.listdir(test_path)"
      ]
    },
    {
      "cell_type": "code",
      "execution_count": null,
      "metadata": {
        "colab": {
          "base_uri": "https://localhost:8080/"
        },
        "id": "hqYL9OU7lXjf",
        "outputId": "980cd03c-700f-45ef-9bad-3b253772e50b"
      },
      "outputs": [
        {
          "output_type": "execute_result",
          "data": {
            "text/plain": [
              "['uninfected', 'parasitized']"
            ]
          },
          "metadata": {},
          "execution_count": 8
        }
      ],
      "source": [
        "os.listdir(train_path)"
      ]
    },
    {
      "cell_type": "code",
      "execution_count": null,
      "metadata": {
        "colab": {
          "base_uri": "https://localhost:8080/",
          "height": 35
        },
        "id": "BcGORMtAlXjg",
        "outputId": "bbd5dd24-6686-40b5-ca83-24960ce5cea7"
      },
      "outputs": [
        {
          "output_type": "execute_result",
          "data": {
            "text/plain": [
              "'C99P60ThinF_IMG_20150918_140900_cell_144.png'"
            ],
            "application/vnd.google.colaboratory.intrinsic+json": {
              "type": "string"
            }
          },
          "metadata": {},
          "execution_count": 9
        }
      ],
      "source": [
        "os.listdir(train_path+'/parasitized')[0]"
      ]
    },
    {
      "cell_type": "code",
      "execution_count": null,
      "metadata": {
        "id": "FO_USyIDlXjh"
      },
      "outputs": [],
      "source": [
        "para_cell = train_path+'/parasitized'+'/C100P61ThinF_IMG_20150918_144104_cell_162.png'"
      ]
    },
    {
      "cell_type": "code",
      "execution_count": null,
      "metadata": {
        "id": "ggKD7mzclXjh"
      },
      "outputs": [],
      "source": [
        "para_img= imread(para_cell)"
      ]
    },
    {
      "cell_type": "code",
      "execution_count": null,
      "metadata": {
        "colab": {
          "base_uri": "https://localhost:8080/",
          "height": 286
        },
        "id": "_XYLZcPglXji",
        "outputId": "bcc10918-c85c-46c8-8e95-fe82f7503002"
      },
      "outputs": [
        {
          "output_type": "execute_result",
          "data": {
            "text/plain": [
              "<matplotlib.image.AxesImage at 0x7fe1d33a4810>"
            ]
          },
          "metadata": {},
          "execution_count": 12
        },
        {
          "output_type": "display_data",
          "data": {
            "text/plain": [
              "<Figure size 432x288 with 1 Axes>"
            ],
            "image/png": "[encoded data removed]"
          },
          "metadata": {
            "needs_background": "light"
          }
        }
      ],
      "source": [
        "plt.imshow(para_img)"
      ]
    },
    {
      "cell_type": "code",
      "execution_count": null,
      "metadata": {
        "colab": {
          "base_uri": "https://localhost:8080/"
        },
        "id": "iWrAdpK4lXjj",
        "outputId": "db6dbd0c-db8d-48bf-bb8b-cc803210fa6e"
      },
      "outputs": [
        {
          "output_type": "execute_result",
          "data": {
            "text/plain": [
              "(148, 142, 3)"
            ]
          },
          "metadata": {},
          "execution_count": 13
        }
      ],
      "source": [
        "para_img.shape"
      ]
    },
    {
      "cell_type": "code",
      "execution_count": null,
      "metadata": {
        "colab": {
          "base_uri": "https://localhost:8080/",
          "height": 286
        },
        "id": "Ze26raHolXjk",
        "outputId": "8e70015e-7cba-4ec8-b4a8-2c34f77c9182"
      },
      "outputs": [
        {
          "output_type": "execute_result",
          "data": {
            "text/plain": [
              "<matplotlib.image.AxesImage at 0x7fe1d2e594d0>"
            ]
          },
          "metadata": {},
          "execution_count": 14
        },
        {
          "output_type": "display_data",
          "data": {
            "text/plain": [
              "<Figure size 432x288 with 1 Axes>"
            ],
            "image/png": "[encoded data removed]"
          },
          "metadata": {
            "needs_background": "light"
          }
        }
      ],
      "source": [
        "unifected_cell_path = train_path+'/uninfected/'+os.listdir(train_path+'/uninfected')[0]\n",
        "unifected_cell = imread(unifected_cell_path)\n",
        "plt.imshow(unifected_cell)"
      ]
    },
    {
      "cell_type": "markdown",
      "metadata": {
        "id": "lN5ktWlslXjk"
      },
      "source": [
        "**Let's check how many images there are.**"
      ]
    },
    {
      "cell_type": "code",
      "execution_count": null,
      "metadata": {
        "colab": {
          "base_uri": "https://localhost:8080/"
        },
        "id": "yGqFyKKOlXjl",
        "outputId": "ddc2c25b-dfec-40e4-bed4-65017438a366"
      },
      "outputs": [
        {
          "output_type": "execute_result",
          "data": {
            "text/plain": [
              "12490"
            ]
          },
          "metadata": {},
          "execution_count": 15
        }
      ],
      "source": [
        "len(os.listdir(train_path+'/parasitized'))"
      ]
    },
    {
      "cell_type": "code",
      "execution_count": null,
      "metadata": {
        "colab": {
          "base_uri": "https://localhost:8080/"
        },
        "id": "lDz-jN22lXjm",
        "outputId": "156d1a39-cc8f-4f5b-bc1f-fb37858b20af"
      },
      "outputs": [
        {
          "output_type": "execute_result",
          "data": {
            "text/plain": [
              "12480"
            ]
          },
          "metadata": {},
          "execution_count": 16
        }
      ],
      "source": [
        "len(os.listdir(train_path+'/uninfected'))"
      ]
    },
    {
      "cell_type": "markdown",
      "metadata": {
        "id": "v1Q0FsRSlXjm"
      },
      "source": [
        "**Let's find out the average dimensions of these images.**"
      ]
    },
    {
      "cell_type": "code",
      "execution_count": null,
      "metadata": {
        "colab": {
          "base_uri": "https://localhost:8080/"
        },
        "id": "_aEB4hZ9lXjn",
        "outputId": "904d8639-0910-45e6-cb61-f30656a5bf6c"
      },
      "outputs": [
        {
          "output_type": "execute_result",
          "data": {
            "text/plain": [
              "(130, 136, 3)"
            ]
          },
          "metadata": {},
          "execution_count": 17
        }
      ],
      "source": [
        "unifected_cell.shape"
      ]
    },
    {
      "cell_type": "code",
      "execution_count": null,
      "metadata": {
        "colab": {
          "base_uri": "https://localhost:8080/"
        },
        "id": "ZYD5mfOClXjo",
        "outputId": "fe41c1fe-5c8a-42dd-f6f9-d803002b5f73"
      },
      "outputs": [
        {
          "output_type": "execute_result",
          "data": {
            "text/plain": [
              "(148, 142, 3)"
            ]
          },
          "metadata": {},
          "execution_count": 18
        }
      ],
      "source": [
        "para_img.shape"
      ]
    },
    {
      "cell_type": "code",
      "execution_count": null,
      "metadata": {
        "id": "k2WDfbzElXjo"
      },
      "outputs": [],
      "source": [
        "\n",
        "dim1 = []\n",
        "dim2 = []\n",
        "for image_filename in os.listdir(test_path+'/uninfected'):\n",
        "    \n",
        "    img = imread(test_path+'/uninfected'+'/'+image_filename)\n",
        "    d1,d2,colors = img.shape\n",
        "    dim1.append(d1)\n",
        "    dim2.append(d2)"
      ]
    },
    {
      "cell_type": "code",
      "execution_count": null,
      "metadata": {
        "colab": {
          "base_uri": "https://localhost:8080/",
          "height": 513
        },
        "id": "kLv30Dr1lXjp",
        "outputId": "8b5dd9f3-1ac1-4318-c443-c7fc43c329ba"
      },
      "outputs": [
        {
          "output_type": "stream",
          "name": "stderr",
          "text": [
            "/usr/local/lib/python3.7/dist-packages/seaborn/_decorators.py:43: FutureWarning: Pass the following variables as keyword args: x, y. From version 0.12, the only valid positional argument will be `data`, and passing other arguments without an explicit keyword will result in an error or misinterpretation.\n",
            "  FutureWarning\n"
          ]
        },
        {
          "output_type": "execute_result",
          "data": {
            "text/plain": [
              "<seaborn.axisgrid.JointGrid at 0x7fe1d2e43950>"
            ]
          },
          "metadata": {},
          "execution_count": 20
        },
        {
          "output_type": "display_data",
          "data": {
            "text/plain": [
              "<Figure size 432x432 with 3 Axes>"
            ],
            "image/png": "[encoded data removed]"
          },
          "metadata": {
            "needs_background": "light"
          }
        }
      ],
      "source": [
        "sns.jointplot(dim1,dim2)"
      ]
    },
    {
      "cell_type": "code",
      "execution_count": null,
      "metadata": {
        "colab": {
          "base_uri": "https://localhost:8080/"
        },
        "id": "NzLGepRolXjq",
        "outputId": "8cbfd759-34d0-4d12-c745-7262cd2fdb0f"
      },
      "outputs": [
        {
          "output_type": "execute_result",
          "data": {
            "text/plain": [
              "130.92538461538462"
            ]
          },
          "metadata": {},
          "execution_count": 21
        }
      ],
      "source": [
        "np.mean(dim1)"
      ]
    },
    {
      "cell_type": "code",
      "execution_count": null,
      "metadata": {
        "colab": {
          "base_uri": "https://localhost:8080/"
        },
        "id": "ceHXEwg2lXjq",
        "outputId": "8870949a-ea1b-495a-a4f0-b8acc383f4f9"
      },
      "outputs": [
        {
          "output_type": "execute_result",
          "data": {
            "text/plain": [
              "130.75"
            ]
          },
          "metadata": {},
          "execution_count": 22
        }
      ],
      "source": [
        "np.mean(dim2)"
      ]
    },
    {
      "cell_type": "code",
      "execution_count": null,
      "metadata": {
        "id": "dh9bf5vrlXjr"
      },
      "outputs": [],
      "source": [
        "image_shape = (130,130,3)"
      ]
    },
    {
      "cell_type": "markdown",
      "metadata": {
        "id": "-McjGM4tlXjs"
      },
      "source": [
        "## Preparing the Data for the model\n",
        "\n",
        "There is too much data for us to read all at once in memory. We can use some built in functions in Keras to automatically process the data, generate a flow of batches from a directory, and also manipulate the images.\n",
        "\n",
        "### Image Manipulation\n",
        "\n",
        "Its usually a good idea to manipulate the images with rotation, resizing, and scaling so the model becomes more robust to different images that our data set doesn't have. We can use the **ImageDataGenerator** to do this automatically for us. Check out the documentation for a full list of all the parameters you can use here!"
      ]
    },
    {
      "cell_type": "code",
      "execution_count": null,
      "metadata": {
        "id": "iB2KHDTglXjs"
      },
      "outputs": [],
      "source": [
        "from tensorflow.keras.preprocessing.image import ImageDataGenerator"
      ]
    },
    {
      "cell_type": "code",
      "execution_count": null,
      "metadata": {
        "id": "RjilSaI-lXjt",
        "outputId": "37b831d0-6f9d-4671-fb7b-6e99cabfb535",
        "colab": {
          "base_uri": "https://localhost:8080/"
        }
      },
      "outputs": [
        {
          "output_type": "stream",
          "name": "stdout",
          "text": [
            "Help on class ImageDataGenerator in module keras.preprocessing.image:\n",
            "\n",
            "class ImageDataGenerator(builtins.object)\n",
            " |  ImageDataGenerator(featurewise_center=False, samplewise_center=False, featurewise_std_normalization=False, samplewise_std_normalization=False, zca_whitening=False, zca_epsilon=1e-06, rotation_range=0, width_shift_range=0.0, height_shift_range=0.0, brightness_range=None, shear_range=0.0, zoom_range=0.0, channel_shift_range=0.0, fill_mode='nearest', cval=0.0, horizontal_flip=False, vertical_flip=False, rescale=None, preprocessing_function=None, data_format=None, validation_split=0.0, interpolation_order=1, dtype=None)\n",
            " |  \n",
            " |  Generate batches of tensor image data with real-time data augmentation.\n",
            " |  \n",
            " |  Deprecated: `tf.keras.preprocessing.image.ImageDataGenerator` is not\n",
            " |  recommended for new code. Prefer loading images with\n",
            " |  `tf.keras.utils.image_dataset_from_directory` and transforming the output\n",
            " |  `tf.data.Dataset` with preprocessing layers. For more information, see the\n",
            " |  tutorials for [loading images](\n",
            " |  https://www.tensorflow.org/tutorials/load_data/images) and\n",
            " |  [augmenting images](\n",
            " |  https://www.tensorflow.org/tutorials/images/data_augmentation), as well as\n",
            " |  the [preprocessing layer guide](\n",
            " |  https://www.tensorflow.org/guide/keras/preprocessing_layers).\n",
            " |  \n",
            " |   The data will be looped over (in batches).\n",
            " |  \n",
            " |  Args:\n",
            " |      featurewise_center: Boolean. Set input mean to 0 over the dataset,\n",
            " |        feature-wise.\n",
            " |      samplewise_center: Boolean. Set each sample mean to 0.\n",
            " |      featurewise_std_normalization: Boolean. Divide inputs by std of the\n",
            " |        dataset, feature-wise.\n",
            " |      samplewise_std_normalization: Boolean. Divide each input by its std.\n",
            " |      zca_epsilon: epsilon for ZCA whitening. Default is 1e-6.\n",
            " |      zca_whitening: Boolean. Apply ZCA whitening.\n",
            " |      rotation_range: Int. Degree range for random rotations.\n",
            " |      width_shift_range: Float, 1-D array-like or int\n",
            " |          - float: fraction of total width, if < 1, or pixels if >= 1.\n",
            " |          - 1-D array-like: random elements from the array.\n",
            " |          - int: integer number of pixels from interval `(-width_shift_range,\n",
            " |            +width_shift_range)` - With `width_shift_range=2` possible values\n",
            " |            are integers `[-1, 0, +1]`, same as with `width_shift_range=[-1, 0,\n",
            " |            +1]`, while with `width_shift_range=1.0` possible values are floats\n",
            " |            in the interval [-1.0, +1.0).\n",
            " |      height_shift_range: Float, 1-D array-like or int\n",
            " |          - float: fraction of total height, if < 1, or pixels if >= 1.\n",
            " |          - 1-D array-like: random elements from the array.\n",
            " |          - int: integer number of pixels from interval `(-height_shift_range,\n",
            " |            +height_shift_range)` - With `height_shift_range=2` possible values\n",
            " |            are integers `[-1, 0, +1]`, same as with `height_shift_range=[-1, 0,\n",
            " |            +1]`, while with `height_shift_range=1.0` possible values are floats\n",
            " |            in the interval [-1.0, +1.0).\n",
            " |      brightness_range: Tuple or list of two floats. Range for picking a\n",
            " |        brightness shift value from.\n",
            " |      shear_range: Float. Shear Intensity (Shear angle in counter-clockwise\n",
            " |        direction in degrees)\n",
            " |      zoom_range: Float or [lower, upper]. Range for random zoom. If a float,\n",
            " |        `[lower, upper] = [1-zoom_range, 1+zoom_range]`.\n",
            " |      channel_shift_range: Float. Range for random channel shifts.\n",
            " |      fill_mode: One of {\"constant\", \"nearest\", \"reflect\" or \"wrap\"}. Default is\n",
            " |        'nearest'. Points outside the boundaries of the input are filled\n",
            " |          according to the given mode:\n",
            " |          - 'constant': kkkkkkkk|abcd|kkkkkkkk (cval=k)\n",
            " |          - 'nearest':  aaaaaaaa|abcd|dddddddd\n",
            " |          - 'reflect':  abcddcba|abcd|dcbaabcd\n",
            " |          - 'wrap':  abcdabcd|abcd|abcdabcd\n",
            " |      cval: Float or Int. Value used for points outside the boundaries when\n",
            " |        `fill_mode = \"constant\"`.\n",
            " |      horizontal_flip: Boolean. Randomly flip inputs horizontally.\n",
            " |      vertical_flip: Boolean. Randomly flip inputs vertically.\n",
            " |      rescale: rescaling factor. Defaults to None. If None or 0, no rescaling is\n",
            " |        applied, otherwise we multiply the data by the value provided (after\n",
            " |        applying all other transformations).\n",
            " |      preprocessing_function: function that will be applied on each input. The\n",
            " |        function will run after the image is resized and augmented.\n",
            " |          The function should take one argument: one image (Numpy tensor with\n",
            " |            rank 3), and should output a Numpy tensor with the same shape.\n",
            " |      data_format: Image data format, either \"channels_first\" or\n",
            " |        \"channels_last\". \"channels_last\" mode means that the images should have\n",
            " |        shape `(samples, height, width, channels)`, \"channels_first\" mode means\n",
            " |        that the images should have shape `(samples, channels, height, width)`.\n",
            " |        It defaults to the `image_data_format` value found in your Keras config\n",
            " |        file at `~/.keras/keras.json`. If you never set it, then it will be\n",
            " |        \"channels_last\".\n",
            " |      validation_split: Float. Fraction of images reserved for validation\n",
            " |        (strictly between 0 and 1).\n",
            " |      dtype: Dtype to use for the generated arrays.\n",
            " |  \n",
            " |  Raises:\n",
            " |    ValueError: If the value of the argument, `data_format` is other than\n",
            " |          `\"channels_last\"` or `\"channels_first\"`.\n",
            " |    ValueError: If the value of the argument, `validation_split` > 1\n",
            " |          or `validation_split` < 0.\n",
            " |  \n",
            " |  Examples:\n",
            " |  \n",
            " |  Example of using `.flow(x, y)`:\n",
            " |  \n",
            " |  ```python\n",
            " |  (x_train, y_train), (x_test, y_test) = cifar10.load_data()\n",
            " |  y_train = utils.to_categorical(y_train, num_classes)\n",
            " |  y_test = utils.to_categorical(y_test, num_classes)\n",
            " |  datagen = ImageDataGenerator(\n",
            " |      featurewise_center=True,\n",
            " |      featurewise_std_normalization=True,\n",
            " |      rotation_range=20,\n",
            " |      width_shift_range=0.2,\n",
            " |      height_shift_range=0.2,\n",
            " |      horizontal_flip=True,\n",
            " |      validation_split=0.2)\n",
            " |  # compute quantities required for featurewise normalization\n",
            " |  # (std, mean, and principal components if ZCA whitening is applied)\n",
            " |  datagen.fit(x_train)\n",
            " |  # fits the model on batches with real-time data augmentation:\n",
            " |  model.fit(datagen.flow(x_train, y_train, batch_size=32,\n",
            " |           subset='training'),\n",
            " |           validation_data=datagen.flow(x_train, y_train,\n",
            " |           batch_size=8, subset='validation'),\n",
            " |           steps_per_epoch=len(x_train) / 32, epochs=epochs)\n",
            " |  # here's a more \"manual\" example\n",
            " |  for e in range(epochs):\n",
            " |      print('Epoch', e)\n",
            " |      batches = 0\n",
            " |      for x_batch, y_batch in datagen.flow(x_train, y_train, batch_size=32):\n",
            " |          model.fit(x_batch, y_batch)\n",
            " |          batches += 1\n",
            " |          if batches >= len(x_train) / 32:\n",
            " |              # we need to break the loop by hand because\n",
            " |              # the generator loops indefinitely\n",
            " |              break\n",
            " |  ```\n",
            " |  \n",
            " |  Example of using `.flow_from_directory(directory)`:\n",
            " |  \n",
            " |  ```python\n",
            " |  train_datagen = ImageDataGenerator(\n",
            " |          rescale=1./255,\n",
            " |          shear_range=0.2,\n",
            " |          zoom_range=0.2,\n",
            " |          horizontal_flip=True)\n",
            " |  test_datagen = ImageDataGenerator(rescale=1./255)\n",
            " |  train_generator = train_datagen.flow_from_directory(\n",
            " |          'data/train',\n",
            " |          target_size=(150, 150),\n",
            " |          batch_size=32,\n",
            " |          class_mode='binary')\n",
            " |  validation_generator = test_datagen.flow_from_directory(\n",
            " |          'data/validation',\n",
            " |          target_size=(150, 150),\n",
            " |          batch_size=32,\n",
            " |          class_mode='binary')\n",
            " |  model.fit(\n",
            " |          train_generator,\n",
            " |          steps_per_epoch=2000,\n",
            " |          epochs=50,\n",
            " |          validation_data=validation_generator,\n",
            " |          validation_steps=800)\n",
            " |  ```\n",
            " |  \n",
            " |  Example of transforming images and masks together.\n",
            " |  \n",
            " |  ```python\n",
            " |  # we create two instances with the same arguments\n",
            " |  data_gen_args = dict(featurewise_center=True,\n",
            " |                       featurewise_std_normalization=True,\n",
            " |                       rotation_range=90,\n",
            " |                       width_shift_range=0.1,\n",
            " |                       height_shift_range=0.1,\n",
            " |                       zoom_range=0.2)\n",
            " |  image_datagen = ImageDataGenerator(**data_gen_args)\n",
            " |  mask_datagen = ImageDataGenerator(**data_gen_args)\n",
            " |  # Provide the same seed and keyword arguments to the fit and flow methods\n",
            " |  seed = 1\n",
            " |  image_datagen.fit(images, augment=True, seed=seed)\n",
            " |  mask_datagen.fit(masks, augment=True, seed=seed)\n",
            " |  image_generator = image_datagen.flow_from_directory(\n",
            " |      'data/images',\n",
            " |      class_mode=None,\n",
            " |      seed=seed)\n",
            " |  mask_generator = mask_datagen.flow_from_directory(\n",
            " |      'data/masks',\n",
            " |      class_mode=None,\n",
            " |      seed=seed)\n",
            " |  # combine generators into one which yields image and masks\n",
            " |  train_generator = zip(image_generator, mask_generator)\n",
            " |  model.fit(\n",
            " |      train_generator,\n",
            " |      steps_per_epoch=2000,\n",
            " |      epochs=50)\n",
            " |  ```\n",
            " |  \n",
            " |  Methods defined here:\n",
            " |  \n",
            " |  __init__(self, featurewise_center=False, samplewise_center=False, featurewise_std_normalization=False, samplewise_std_normalization=False, zca_whitening=False, zca_epsilon=1e-06, rotation_range=0, width_shift_range=0.0, height_shift_range=0.0, brightness_range=None, shear_range=0.0, zoom_range=0.0, channel_shift_range=0.0, fill_mode='nearest', cval=0.0, horizontal_flip=False, vertical_flip=False, rescale=None, preprocessing_function=None, data_format=None, validation_split=0.0, interpolation_order=1, dtype=None)\n",
            " |      Initialize self.  See help(type(self)) for accurate signature.\n",
            " |  \n",
            " |  apply_transform(self, x, transform_parameters)\n",
            " |      Applies a transformation to an image according to given parameters.\n",
            " |      \n",
            " |      Args:\n",
            " |          x: 3D tensor, single image.\n",
            " |          transform_parameters: Dictionary with string - parameter pairs\n",
            " |              describing the transformation.\n",
            " |              Currently, the following parameters\n",
            " |              from the dictionary are used:\n",
            " |              - `'theta'`: Float. Rotation angle in degrees.\n",
            " |              - `'tx'`: Float. Shift in the x direction.\n",
            " |              - `'ty'`: Float. Shift in the y direction.\n",
            " |              - `'shear'`: Float. Shear angle in degrees.\n",
            " |              - `'zx'`: Float. Zoom in the x direction.\n",
            " |              - `'zy'`: Float. Zoom in the y direction.\n",
            " |              - `'flip_horizontal'`: Boolean. Horizontal flip.\n",
            " |              - `'flip_vertical'`: Boolean. Vertical flip.\n",
            " |              - `'channel_shift_intensity'`: Float. Channel shift intensity.\n",
            " |              - `'brightness'`: Float. Brightness shift intensity.\n",
            " |      \n",
            " |      Returns:\n",
            " |          A transformed version of the input (same shape).\n",
            " |  \n",
            " |  fit(self, x, augment=False, rounds=1, seed=None)\n",
            " |      Fits the data generator to some sample data.\n",
            " |      \n",
            " |      This computes the internal data stats related to the\n",
            " |      data-dependent transformations, based on an array of sample data.\n",
            " |      \n",
            " |      Only required if `featurewise_center` or\n",
            " |      `featurewise_std_normalization` or `zca_whitening` are set to True.\n",
            " |      \n",
            " |      When `rescale` is set to a value, rescaling is applied to\n",
            " |      sample data before computing the internal data stats.\n",
            " |      \n",
            " |      Args:\n",
            " |          x: Sample data. Should have rank 4.\n",
            " |           In case of grayscale data,\n",
            " |           the channels axis should have value 1, in case\n",
            " |           of RGB data, it should have value 3, and in case\n",
            " |           of RGBA data, it should have value 4.\n",
            " |          augment: Boolean (default: False).\n",
            " |              Whether to fit on randomly augmented samples.\n",
            " |          rounds: Int (default: 1).\n",
            " |              If using data augmentation (`augment=True`),\n",
            " |              this is how many augmentation passes over the data to use.\n",
            " |          seed: Int (default: None). Random seed.\n",
            " |  \n",
            " |  flow(self, x, y=None, batch_size=32, shuffle=True, sample_weight=None, seed=None, save_to_dir=None, save_prefix='', save_format='png', ignore_class_split=False, subset=None)\n",
            " |      Takes data & label arrays, generates batches of augmented data.\n",
            " |      \n",
            " |      Args:\n",
            " |          x: Input data. Numpy array of rank 4 or a tuple. If tuple, the first\n",
            " |            element should contain the images and the second element another numpy\n",
            " |            array or a list of numpy arrays that gets passed to the output without\n",
            " |            any modifications. Can be used to feed the model miscellaneous data\n",
            " |            along with the images. In case of grayscale data, the channels axis of\n",
            " |            the image array should have value 1, in case of RGB data, it should\n",
            " |            have value 3, and in case of RGBA data, it should have value 4.\n",
            " |          y: Labels.\n",
            " |          batch_size: Int (default: 32).\n",
            " |          shuffle: Boolean (default: True).\n",
            " |          sample_weight: Sample weights.\n",
            " |          seed: Int (default: None).\n",
            " |          save_to_dir: None or str (default: None). This allows you to optionally\n",
            " |            specify a directory to which to save the augmented pictures being\n",
            " |            generated (useful for visualizing what you are doing).\n",
            " |          save_prefix: Str (default: `''`). Prefix to use for filenames of saved\n",
            " |            pictures (only relevant if `save_to_dir` is set).\n",
            " |          save_format: one of \"png\", \"jpeg\", \"bmp\", \"pdf\", \"ppm\", \"gif\", \"tif\",\n",
            " |            \"jpg\" (only relevant if `save_to_dir` is set). Default: \"png\".\n",
            " |          ignore_class_split: Boolean (default: False), ignore difference\n",
            " |            in number of classes in labels across train and validation\n",
            " |            split (useful for non-classification tasks)\n",
            " |          subset: Subset of data (`\"training\"` or `\"validation\"`) if\n",
            " |            `validation_split` is set in `ImageDataGenerator`.\n",
            " |      \n",
            " |      Returns:\n",
            " |          An `Iterator` yielding tuples of `(x, y)`\n",
            " |              where `x` is a numpy array of image data\n",
            " |              (in the case of a single image input) or a list\n",
            " |              of numpy arrays (in the case with\n",
            " |              additional inputs) and `y` is a numpy array\n",
            " |              of corresponding labels. If 'sample_weight' is not None,\n",
            " |              the yielded tuples are of the form `(x, y, sample_weight)`.\n",
            " |              If `y` is None, only the numpy array `x` is returned.\n",
            " |      Raises:\n",
            " |        ValueError: If the Value of the argument, `subset` is other than\n",
            " |              \"training\" or \"validation\".\n",
            " |  \n",
            " |  flow_from_dataframe(self, dataframe, directory=None, x_col='filename', y_col='class', weight_col=None, target_size=(256, 256), color_mode='rgb', classes=None, class_mode='categorical', batch_size=32, shuffle=True, seed=None, save_to_dir=None, save_prefix='', save_format='png', subset=None, interpolation='nearest', validate_filenames=True, **kwargs)\n",
            " |      Takes the dataframe and the path to a directory + generates batches.\n",
            " |      \n",
            " |       The generated batches contain augmented/normalized data.\n",
            " |      \n",
            " |      **A simple tutorial can be found **[here](\n",
            " |                                  http://bit.ly/keras_flow_from_dataframe).\n",
            " |      \n",
            " |      Args:\n",
            " |          dataframe: Pandas dataframe containing the filepaths relative to\n",
            " |              `directory` (or absolute paths if `directory` is None) of the\n",
            " |              images in a string column. It should include other column/s\n",
            " |              depending on the `class_mode`:\n",
            " |              - if `class_mode` is `\"categorical\"` (default value) it must\n",
            " |                  include the `y_col` column with the class/es of each image.\n",
            " |                  Values in column can be string/list/tuple if a single class\n",
            " |                  or list/tuple if multiple classes.\n",
            " |              - if `class_mode` is `\"binary\"` or `\"sparse\"` it must include\n",
            " |                  the given `y_col` column with class values as strings.\n",
            " |              - if `class_mode` is `\"raw\"` or `\"multi_output\"` it should contain\n",
            " |              the columns specified in `y_col`.\n",
            " |              - if `class_mode` is `\"input\"` or `None` no extra column is needed.\n",
            " |          directory: string, path to the directory to read images from. If `None`,\n",
            " |            data in `x_col` column should be absolute paths.\n",
            " |          x_col: string, column in `dataframe` that contains the filenames (or\n",
            " |            absolute paths if `directory` is `None`).\n",
            " |          y_col: string or list, column/s in `dataframe` that has the target data.\n",
            " |          weight_col: string, column in `dataframe` that contains the sample\n",
            " |              weights. Default: `None`.\n",
            " |          target_size: tuple of integers `(height, width)`, default: `(256, 256)`.\n",
            " |            The dimensions to which all images found will be resized.\n",
            " |          color_mode: one of \"grayscale\", \"rgb\", \"rgba\". Default: \"rgb\". Whether\n",
            " |            the images will be converted to have 1 or 3 color channels.\n",
            " |          classes: optional list of classes (e.g. `['dogs', 'cats']`). Default is\n",
            " |            None. If not provided, the list of classes will be automatically\n",
            " |            inferred from the `y_col`, which will map to the label indices, will\n",
            " |            be alphanumeric). The dictionary containing the mapping from class\n",
            " |            names to class indices can be obtained via the attribute\n",
            " |            `class_indices`.\n",
            " |          class_mode: one of \"binary\", \"categorical\", \"input\", \"multi_output\",\n",
            " |              \"raw\", sparse\" or None. Default: \"categorical\".\n",
            " |              Mode for yielding the targets:\n",
            " |              - `\"binary\"`: 1D numpy array of binary labels,\n",
            " |              - `\"categorical\"`: 2D numpy array of one-hot encoded labels.\n",
            " |                Supports multi-label output.\n",
            " |              - `\"input\"`: images identical to input images (mainly used to work\n",
            " |                with autoencoders),\n",
            " |              - `\"multi_output\"`: list with the values of the different columns,\n",
            " |              - `\"raw\"`: numpy array of values in `y_col` column(s),\n",
            " |              - `\"sparse\"`: 1D numpy array of integer labels, - `None`, no targets\n",
            " |                are returned (the generator will only yield batches of image data,\n",
            " |                which is useful to use in `model.predict()`).\n",
            " |          batch_size: size of the batches of data (default: 32).\n",
            " |          shuffle: whether to shuffle the data (default: True)\n",
            " |          seed: optional random seed for shuffling and transformations.\n",
            " |          save_to_dir: None or str (default: None). This allows you to optionally\n",
            " |            specify a directory to which to save the augmented pictures being\n",
            " |            generated (useful for visualizing what you are doing).\n",
            " |          save_prefix: str. Prefix to use for filenames of saved pictures (only\n",
            " |            relevant if `save_to_dir` is set).\n",
            " |          save_format: one of \"png\", \"jpeg\", \"bmp\", \"pdf\", \"ppm\", \"gif\", \"tif\",\n",
            " |            \"jpg\" (only relevant if `save_to_dir` is set). Default: \"png\".\n",
            " |          subset: Subset of data (`\"training\"` or `\"validation\"`) if\n",
            " |            `validation_split` is set in `ImageDataGenerator`.\n",
            " |          interpolation: Interpolation method used to resample the image if the\n",
            " |            target size is different from that of the loaded image. Supported\n",
            " |            methods are `\"nearest\"`, `\"bilinear\"`, and `\"bicubic\"`. If PIL version\n",
            " |            1.1.3 or newer is installed, `\"lanczos\"` is also supported. If PIL\n",
            " |            version 3.4.0 or newer is installed, `\"box\"` and `\"hamming\"` are also\n",
            " |            supported. By default, `\"nearest\"` is used.\n",
            " |          validate_filenames: Boolean, whether to validate image filenames in\n",
            " |            `x_col`. If `True`, invalid images will be ignored. Disabling this\n",
            " |            option can lead to speed-up in the execution of this function.\n",
            " |            Defaults to `True`.\n",
            " |          **kwargs: legacy arguments for raising deprecation warnings.\n",
            " |      \n",
            " |      Returns:\n",
            " |          A `DataFrameIterator` yielding tuples of `(x, y)`\n",
            " |          where `x` is a numpy array containing a batch\n",
            " |          of images with shape `(batch_size, *target_size, channels)`\n",
            " |          and `y` is a numpy array of corresponding labels.\n",
            " |  \n",
            " |  flow_from_directory(self, directory, target_size=(256, 256), color_mode='rgb', classes=None, class_mode='categorical', batch_size=32, shuffle=True, seed=None, save_to_dir=None, save_prefix='', save_format='png', follow_links=False, subset=None, interpolation='nearest', keep_aspect_ratio=False)\n",
            " |      Takes the path to a directory & generates batches of augmented data.\n",
            " |      \n",
            " |      Args:\n",
            " |          directory: string, path to the target directory. It should contain one\n",
            " |            subdirectory per class. Any PNG, JPG, BMP, PPM or TIF images inside\n",
            " |            each of the subdirectories directory tree will be included in the\n",
            " |            generator. See [this script](\n",
            " |              https://gist.github.com/fchollet/0830affa1f7f19fd47b06d4cf89ed44d)\n",
            " |                for more details.\n",
            " |          target_size: Tuple of integers `(height, width)`, defaults to `(256,\n",
            " |            256)`. The dimensions to which all images found will be resized.\n",
            " |          color_mode: One of \"grayscale\", \"rgb\", \"rgba\". Default: \"rgb\". Whether\n",
            " |            the images will be converted to have 1, 3, or 4 channels.\n",
            " |          classes: Optional list of class subdirectories\n",
            " |              (e.g. `['dogs', 'cats']`). Default: None. If not provided, the list\n",
            " |                of classes will be automatically inferred from the subdirectory\n",
            " |                names/structure under `directory`, where each subdirectory will be\n",
            " |                treated as a different class (and the order of the classes, which\n",
            " |                will map to the label indices, will be alphanumeric). The\n",
            " |                dictionary containing the mapping from class names to class\n",
            " |                indices can be obtained via the attribute `class_indices`.\n",
            " |          class_mode: One of \"categorical\", \"binary\", \"sparse\",\n",
            " |              \"input\", or None. Default: \"categorical\".\n",
            " |              Determines the type of label arrays that are returned:\n",
            " |              - \"categorical\" will be 2D one-hot encoded labels,\n",
            " |              - \"binary\" will be 1D binary labels,\n",
            " |                  \"sparse\" will be 1D integer labels,\n",
            " |              - \"input\" will be images identical\n",
            " |                  to input images (mainly used to work with autoencoders).\n",
            " |              - If None, no labels are returned\n",
            " |                (the generator will only yield batches of image data,\n",
            " |                which is useful to use with `model.predict_generator()`).\n",
            " |                Please note that in case of class_mode None,\n",
            " |                the data still needs to reside in a subdirectory\n",
            " |                of `directory` for it to work correctly.\n",
            " |          batch_size: Size of the batches of data (default: 32).\n",
            " |          shuffle: Whether to shuffle the data (default: True) If set to False,\n",
            " |            sorts the data in alphanumeric order.\n",
            " |          seed: Optional random seed for shuffling and transformations.\n",
            " |          save_to_dir: None or str (default: None). This allows you to optionally\n",
            " |            specify a directory to which to save the augmented pictures being\n",
            " |            generated (useful for visualizing what you are doing).\n",
            " |          save_prefix: Str. Prefix to use for filenames of saved pictures (only\n",
            " |            relevant if `save_to_dir` is set).\n",
            " |          save_format: one of \"png\", \"jpeg\", \"bmp\", \"pdf\", \"ppm\", \"gif\", \"tif\",\n",
            " |            \"jpg\"\n",
            " |              (only relevant if `save_to_dir` is set). Default: \"png\".\n",
            " |          follow_links: Whether to follow symlinks inside\n",
            " |              class subdirectories (default: False).\n",
            " |          subset: Subset of data (`\"training\"` or `\"validation\"`) if\n",
            " |            `validation_split` is set in `ImageDataGenerator`.\n",
            " |          interpolation: Interpolation method used to resample the image if the\n",
            " |            target size is different from that of the loaded image. Supported\n",
            " |            methods are `\"nearest\"`, `\"bilinear\"`, and `\"bicubic\"`. If PIL version\n",
            " |            1.1.3 or newer is installed, `\"lanczos\"` is also supported. If PIL\n",
            " |            version 3.4.0 or newer is installed, `\"box\"` and `\"hamming\"` are also\n",
            " |            supported. By default, `\"nearest\"` is used.\n",
            " |          keep_aspect_ratio: Boolean, whether to resize images to a target\n",
            " |            size without aspect ratio distortion. The image is cropped in\n",
            " |            the center with target aspect ratio before resizing.\n",
            " |      \n",
            " |      Returns:\n",
            " |          A `DirectoryIterator` yielding tuples of `(x, y)`\n",
            " |              where `x` is a numpy array containing a batch\n",
            " |              of images with shape `(batch_size, *target_size, channels)`\n",
            " |              and `y` is a numpy array of corresponding labels.\n",
            " |  \n",
            " |  get_random_transform(self, img_shape, seed=None)\n",
            " |      Generates random parameters for a transformation.\n",
            " |      \n",
            " |      Args:\n",
            " |          img_shape: Tuple of integers.\n",
            " |              Shape of the image that is transformed.\n",
            " |          seed: Random seed.\n",
            " |      \n",
            " |      Returns:\n",
            " |          A dictionary containing randomly chosen parameters describing the\n",
            " |          transformation.\n",
            " |  \n",
            " |  random_transform(self, x, seed=None)\n",
            " |      Applies a random transformation to an image.\n",
            " |      \n",
            " |      Args:\n",
            " |          x: 3D tensor, single image.\n",
            " |          seed: Random seed.\n",
            " |      \n",
            " |      Returns:\n",
            " |          A randomly transformed version of the input (same shape).\n",
            " |  \n",
            " |  standardize(self, x)\n",
            " |      Applies the normalization configuration in-place to a batch of inputs.\n",
            " |      \n",
            " |      `x` is changed in-place since the function is mainly used internally\n",
            " |      to standardize images and feed them to your network. If a copy of `x`\n",
            " |      would be created instead it would have a significant performance cost.\n",
            " |      If you want to apply this method without changing the input in-place\n",
            " |      you can call the method creating a copy before:\n",
            " |      \n",
            " |      standardize(np.copy(x))\n",
            " |      \n",
            " |      Args:\n",
            " |          x: Batch of inputs to be normalized.\n",
            " |      \n",
            " |      Returns:\n",
            " |          The inputs, normalized.\n",
            " |  \n",
            " |  ----------------------------------------------------------------------\n",
            " |  Data descriptors defined here:\n",
            " |  \n",
            " |  __dict__\n",
            " |      dictionary for instance variables (if defined)\n",
            " |  \n",
            " |  __weakref__\n",
            " |      list of weak references to the object (if defined)\n",
            "\n"
          ]
        }
      ],
      "source": [
        "help(ImageDataGenerator)"
      ]
    },
    {
      "cell_type": "code",
      "execution_count": null,
      "metadata": {
        "id": "6rW2fIPClXju"
      },
      "outputs": [],
      "source": [
        "image_gen = ImageDataGenerator(rotation_range=20, # rotate the image 20 degrees\n",
        "                               width_shift_range=0.10, # Shift the pic width by a max of 5%\n",
        "                               height_shift_range=0.10, # Shift the pic height by a max of 5%\n",
        "                               rescale=1/255, # Rescale the image by normalzing it.\n",
        "                               shear_range=0.1, # Shear means cutting away part of the image (max 10%)\n",
        "                               zoom_range=0.1, # Zoom in by 10% max\n",
        "                               horizontal_flip=True, # Allo horizontal flipping\n",
        "                               fill_mode='nearest' # Fill in missing pixels with the nearest filled value\n",
        "                              )"
      ]
    },
    {
      "cell_type": "code",
      "execution_count": null,
      "metadata": {
        "colab": {
          "base_uri": "https://localhost:8080/",
          "height": 286
        },
        "id": "wfqhcQhYlXju",
        "outputId": "d756ed52-ef3e-4d68-e26f-8cedc2bbbaa0"
      },
      "outputs": [
        {
          "output_type": "execute_result",
          "data": {
            "text/plain": [
              "<matplotlib.image.AxesImage at 0x7fe176a1fd90>"
            ]
          },
          "metadata": {},
          "execution_count": 26
        },
        {
          "output_type": "display_data",
          "data": {
            "text/plain": [
              "<Figure size 432x288 with 1 Axes>"
            ],
            "image/png": "[encoded data removed]"
          },
          "metadata": {
            "needs_background": "light"
          }
        }
      ],
      "source": [
        "plt.imshow(para_img)"
      ]
    },
    {
      "cell_type": "code",
      "execution_count": null,
      "metadata": {
        "colab": {
          "base_uri": "https://localhost:8080/",
          "height": 286
        },
        "id": "6h-WVI-xlXjv",
        "outputId": "8108821f-b037-440f-ca96-056393c698f7"
      },
      "outputs": [
        {
          "output_type": "execute_result",
          "data": {
            "text/plain": [
              "<matplotlib.image.AxesImage at 0x7fe1769d43d0>"
            ]
          },
          "metadata": {},
          "execution_count": 27
        },
        {
          "output_type": "display_data",
          "data": {
            "text/plain": [
              "<Figure size 432x288 with 1 Axes>"
            ],
            "image/png": "[encoded data removed]"
          },
          "metadata": {
            "needs_background": "light"
          }
        }
      ],
      "source": [
        "plt.imshow(image_gen.random_transform(para_img))"
      ]
    },
    {
      "cell_type": "code",
      "execution_count": null,
      "metadata": {
        "colab": {
          "base_uri": "https://localhost:8080/",
          "height": 286
        },
        "id": "lqs2Z8c5lXjx",
        "outputId": "b4bac029-477e-4447-9b3e-7baa2e419a17"
      },
      "outputs": [
        {
          "output_type": "execute_result",
          "data": {
            "text/plain": [
              "<matplotlib.image.AxesImage at 0x7fe1768c60d0>"
            ]
          },
          "metadata": {},
          "execution_count": 28
        },
        {
          "output_type": "display_data",
          "data": {
            "text/plain": [
              "<Figure size 432x288 with 1 Axes>"
            ],
            "image/png": "[encoded data removed]"
          },
          "metadata": {
            "needs_background": "light"
          }
        }
      ],
      "source": [
        "plt.imshow(image_gen.random_transform(para_img))"
      ]
    },
    {
      "cell_type": "markdown",
      "metadata": {
        "id": "cpZlnGYslXjy"
      },
      "source": [
        "### Generating many manipulated images from a directory\n",
        "\n",
        "\n",
        "In order to use .flow_from_directory, you must organize the images in sub-directories. This is an absolute requirement, otherwise the method won't work. The directories should only contain images of one class, so one folder per class of images.\n",
        "\n",
        "Structure Needed:\n",
        "\n",
        "* Image Data Folder\n",
        "    * Class 1\n",
        "        * 0.jpg\n",
        "        * 1.jpg\n",
        "        * ...\n",
        "    * Class 2\n",
        "        * 0.jpg\n",
        "        * 1.jpg\n",
        "        * ...\n",
        "    * ...\n",
        "    * Class n"
      ]
    },
    {
      "cell_type": "code",
      "execution_count": null,
      "metadata": {
        "id": "hp8qDRD4lXjy",
        "outputId": "cd6c9fc8-8aae-419b-acf1-77de7a4c5d53"
      },
      "outputs": [
        {
          "name": "stdout",
          "output_type": "stream",
          "text": [
            "Found 24958 images belonging to 2 classes.\n"
          ]
        },
        {
          "data": {
            "text/plain": [
              "<keras_preprocessing.image.directory_iterator.DirectoryIterator at 0x1cfff9f71c8>"
            ]
          },
          "execution_count": 65,
          "metadata": {},
          "output_type": "execute_result"
        }
      ],
      "source": [
        "image_gen.flow_from_directory(train_path)"
      ]
    },
    {
      "cell_type": "code",
      "execution_count": null,
      "metadata": {
        "id": "hEu7vGb3lXjz",
        "outputId": "ed00e550-004b-4b4f-fa23-9641beb577c9"
      },
      "outputs": [
        {
          "name": "stdout",
          "output_type": "stream",
          "text": [
            "Found 2600 images belonging to 2 classes.\n"
          ]
        },
        {
          "data": {
            "text/plain": [
              "<keras_preprocessing.image.directory_iterator.DirectoryIterator at 0x1cfffa0e4c8>"
            ]
          },
          "execution_count": 66,
          "metadata": {},
          "output_type": "execute_result"
        }
      ],
      "source": [
        "image_gen.flow_from_directory(test_path)"
      ]
    },
    {
      "cell_type": "markdown",
      "metadata": {
        "id": "84W-5FlBlXj0"
      },
      "source": [
        "# Creating the Model"
      ]
    },
    {
      "cell_type": "code",
      "execution_count": null,
      "metadata": {
        "id": "m--Pmz-blXj0"
      },
      "outputs": [],
      "source": [
        "from tensorflow.keras.models import Sequential\n",
        "from tensorflow.keras.layers import Activation, Dropout, Flatten, Dense, Conv2D, MaxPooling2D"
      ]
    },
    {
      "cell_type": "code",
      "execution_count": null,
      "metadata": {
        "id": "oNoL9LmwlXj1"
      },
      "outputs": [],
      "source": [
        "#https://stats.stackexchange.com/questions/148139/rules-for-selecting-convolutional-neural-network-hyperparameters\n",
        "model = Sequential()\n",
        "\n",
        "model.add(Conv2D(filters=32, kernel_size=(3,3),input_shape=image_shape, activation='relu',))\n",
        "model.add(MaxPooling2D(pool_size=(2, 2)))\n",
        "\n",
        "model.add(Conv2D(filters=64, kernel_size=(3,3),input_shape=image_shape, activation='relu',))\n",
        "model.add(MaxPooling2D(pool_size=(2, 2)))\n",
        "\n",
        "model.add(Conv2D(filters=64, kernel_size=(3,3),input_shape=image_shape, activation='relu',))\n",
        "model.add(MaxPooling2D(pool_size=(2, 2)))\n",
        "\n",
        "\n",
        "model.add(Flatten())\n",
        "\n",
        "\n",
        "model.add(Dense(128))\n",
        "model.add(Activation('relu'))\n",
        "\n",
        "# Dropouts help reduce overfitting by randomly turning neurons off during training.\n",
        "# Here we say randomly turn off 50% of neurons.\n",
        "model.add(Dropout(0.5))\n",
        "\n",
        "# Last layer, remember its binary so we use sigmoid\n",
        "model.add(Dense(1))\n",
        "model.add(Activation('sigmoid'))\n",
        "\n",
        "model.compile(loss='binary_crossentropy',\n",
        "              optimizer='adam',\n",
        "              metrics=['accuracy'])"
      ]
    },
    {
      "cell_type": "code",
      "execution_count": null,
      "metadata": {
        "colab": {
          "base_uri": "https://localhost:8080/"
        },
        "id": "PtDtI3LFlXj2",
        "outputId": "8b9d2dfa-5171-4179-a7c7-43d97290e74b"
      },
      "outputs": [
        {
          "output_type": "stream",
          "name": "stdout",
          "text": [
            "Model: \"sequential\"\n",
            "_________________________________________________________________\n",
            " Layer (type)                Output Shape              Param #   \n",
            "=================================================================\n",
            " conv2d (Conv2D)             (None, 128, 128, 32)      896       \n",
            "                                                                 \n",
            " max_pooling2d (MaxPooling2D  (None, 64, 64, 32)       0         \n",
            " )                                                               \n",
            "                                                                 \n",
            " conv2d_1 (Conv2D)           (None, 62, 62, 64)        18496     \n",
            "                                                                 \n",
            " max_pooling2d_1 (MaxPooling  (None, 31, 31, 64)       0         \n",
            " 2D)                                                             \n",
            "                                                                 \n",
            " conv2d_2 (Conv2D)           (None, 29, 29, 64)        36928     \n",
            "                                                                 \n",
            " max_pooling2d_2 (MaxPooling  (None, 14, 14, 64)       0         \n",
            " 2D)                                                             \n",
            "                                                                 \n",
            " flatten (Flatten)           (None, 12544)             0         \n",
            "                                                                 \n",
            " dense (Dense)               (None, 128)               1605760   \n",
            "                                                                 \n",
            " activation (Activation)     (None, 128)               0         \n",
            "                                                                 \n",
            " dropout (Dropout)           (None, 128)               0         \n",
            "                                                                 \n",
            " dense_1 (Dense)             (None, 1)                 129       \n",
            "                                                                 \n",
            " activation_1 (Activation)   (None, 1)                 0         \n",
            "                                                                 \n",
            "=================================================================\n",
            "Total params: 1,662,209\n",
            "Trainable params: 1,662,209\n",
            "Non-trainable params: 0\n",
            "_________________________________________________________________\n"
          ]
        }
      ],
      "source": [
        "model.summary()"
      ]
    },
    {
      "cell_type": "markdown",
      "metadata": {
        "id": "DOZpggZSlXj2"
      },
      "source": [
        "## Early Stopping"
      ]
    },
    {
      "cell_type": "code",
      "execution_count": null,
      "metadata": {
        "id": "3v9NLjHIlXj3"
      },
      "outputs": [],
      "source": [
        "from tensorflow.keras.callbacks import EarlyStopping"
      ]
    },
    {
      "cell_type": "code",
      "execution_count": null,
      "metadata": {
        "id": "sKPqd0wXlXj3"
      },
      "outputs": [],
      "source": [
        "early_stop = EarlyStopping(monitor='val_loss',patience=2)"
      ]
    },
    {
      "cell_type": "markdown",
      "metadata": {
        "id": "TsGGkuFVlXj4"
      },
      "source": [
        "## Training the Model"
      ]
    },
    {
      "cell_type": "code",
      "execution_count": null,
      "metadata": {
        "id": "5CCjjw5tlXj4",
        "outputId": "3fb4e87f-362f-451f-b1c6-b4b02813cba9"
      },
      "outputs": [
        {
          "name": "stdout",
          "output_type": "stream",
          "text": [
            "Help on method flow_from_directory in module keras_preprocessing.image.image_data_generator:\n",
            "\n",
            "flow_from_directory(directory, target_size=(256, 256), color_mode='rgb', classes=None, class_mode='categorical', batch_size=32, shuffle=True, seed=None, save_to_dir=None, save_prefix='', save_format='png', follow_links=False, subset=None, interpolation='nearest') method of tensorflow.python.keras.preprocessing.image.ImageDataGenerator instance\n",
            "    Takes the path to a directory & generates batches of augmented data.\n",
            "    \n",
            "    # Arguments\n",
            "        directory: string, path to the target directory.\n",
            "            It should contain one subdirectory per class.\n",
            "            Any PNG, JPG, BMP, PPM or TIF images\n",
            "            inside each of the subdirectories directory tree\n",
            "            will be included in the generator.\n",
            "            See [this script](\n",
            "            https://gist.github.com/fchollet/0830affa1f7f19fd47b06d4cf89ed44d)\n",
            "            for more details.\n",
            "        target_size: Tuple of integers `(height, width)`,\n",
            "            default: `(256, 256)`.\n",
            "            The dimensions to which all images found will be resized.\n",
            "        color_mode: One of \"grayscale\", \"rgb\", \"rgba\". Default: \"rgb\".\n",
            "            Whether the images will be converted to\n",
            "            have 1, 3, or 4 channels.\n",
            "        classes: Optional list of class subdirectories\n",
            "            (e.g. `['dogs', 'cats']`). Default: None.\n",
            "            If not provided, the list of classes will be automatically\n",
            "            inferred from the subdirectory names/structure\n",
            "            under `directory`, where each subdirectory will\n",
            "            be treated as a different class\n",
            "            (and the order of the classes, which will map to the label\n",
            "            indices, will be alphanumeric).\n",
            "            The dictionary containing the mapping from class names to class\n",
            "            indices can be obtained via the attribute `class_indices`.\n",
            "        class_mode: One of \"categorical\", \"binary\", \"sparse\",\n",
            "            \"input\", or None. Default: \"categorical\".\n",
            "            Determines the type of label arrays that are returned:\n",
            "            - \"categorical\" will be 2D one-hot encoded labels,\n",
            "            - \"binary\" will be 1D binary labels,\n",
            "                \"sparse\" will be 1D integer labels,\n",
            "            - \"input\" will be images identical\n",
            "                to input images (mainly used to work with autoencoders).\n",
            "            - If None, no labels are returned\n",
            "              (the generator will only yield batches of image data,\n",
            "              which is useful to use with `model.predict_generator()`).\n",
            "              Please note that in case of class_mode None,\n",
            "              the data still needs to reside in a subdirectory\n",
            "              of `directory` for it to work correctly.\n",
            "        batch_size: Size of the batches of data (default: 32).\n",
            "        shuffle: Whether to shuffle the data (default: True)\n",
            "            If set to False, sorts the data in alphanumeric order.\n",
            "        seed: Optional random seed for shuffling and transformations.\n",
            "        save_to_dir: None or str (default: None).\n",
            "            This allows you to optionally specify\n",
            "            a directory to which to save\n",
            "            the augmented pictures being generated\n",
            "            (useful for visualizing what you are doing).\n",
            "        save_prefix: Str. Prefix to use for filenames of saved pictures\n",
            "            (only relevant if `save_to_dir` is set).\n",
            "        save_format: One of \"png\", \"jpeg\"\n",
            "            (only relevant if `save_to_dir` is set). Default: \"png\".\n",
            "        follow_links: Whether to follow symlinks inside\n",
            "            class subdirectories (default: False).\n",
            "        subset: Subset of data (`\"training\"` or `\"validation\"`) if\n",
            "            `validation_split` is set in `ImageDataGenerator`.\n",
            "        interpolation: Interpolation method used to\n",
            "            resample the image if the\n",
            "            target size is different from that of the loaded image.\n",
            "            Supported methods are `\"nearest\"`, `\"bilinear\"`,\n",
            "            and `\"bicubic\"`.\n",
            "            If PIL version 1.1.3 or newer is installed, `\"lanczos\"` is also\n",
            "            supported. If PIL version 3.4.0 or newer is installed,\n",
            "            `\"box\"` and `\"hamming\"` are also supported.\n",
            "            By default, `\"nearest\"` is used.\n",
            "    \n",
            "    # Returns\n",
            "        A `DirectoryIterator` yielding tuples of `(x, y)`\n",
            "            where `x` is a numpy array containing a batch\n",
            "            of images with shape `(batch_size, *target_size, channels)`\n",
            "            and `y` is a numpy array of corresponding labels.\n",
            "\n"
          ]
        }
      ],
      "source": [
        "help(image_gen.flow_from_directory)"
      ]
    },
    {
      "cell_type": "code",
      "execution_count": null,
      "metadata": {
        "id": "4g4JvxQslXj5"
      },
      "outputs": [],
      "source": [
        "batch_size = 16"
      ]
    },
    {
      "cell_type": "code",
      "execution_count": null,
      "metadata": {
        "colab": {
          "base_uri": "https://localhost:8080/"
        },
        "id": "KaGLa94blXj5",
        "outputId": "159b9e2c-b3bf-4fb2-abe8-db4c5a919f81"
      },
      "outputs": [
        {
          "output_type": "stream",
          "name": "stdout",
          "text": [
            "Found 24968 images belonging to 2 classes.\n"
          ]
        }
      ],
      "source": [
        "train_image_gen = image_gen.flow_from_directory(train_path,\n",
        "                                               target_size=image_shape[:2],\n",
        "                                                color_mode='rgb',\n",
        "                                               batch_size=batch_size,\n",
        "                                               class_mode='binary')"
      ]
    },
    {
      "cell_type": "code",
      "execution_count": null,
      "metadata": {
        "colab": {
          "base_uri": "https://localhost:8080/"
        },
        "id": "E6Id8rK8lXj6",
        "outputId": "0e627abb-da0f-4b55-b648-61caca30bf39"
      },
      "outputs": [
        {
          "output_type": "stream",
          "name": "stdout",
          "text": [
            "Found 2600 images belonging to 2 classes.\n"
          ]
        }
      ],
      "source": [
        "test_image_gen = image_gen.flow_from_directory(test_path,\n",
        "                                               target_size=image_shape[:2],\n",
        "                                               color_mode='rgb',\n",
        "                                               batch_size=batch_size,\n",
        "                                               class_mode='binary',shuffle=False)"
      ]
    },
    {
      "cell_type": "code",
      "execution_count": null,
      "metadata": {
        "colab": {
          "base_uri": "https://localhost:8080/"
        },
        "id": "K95IdTTnlXj7",
        "outputId": "dea17784-73dc-4a76-923c-54dee1f06cf4"
      },
      "outputs": [
        {
          "output_type": "execute_result",
          "data": {
            "text/plain": [
              "{'parasitized': 0, 'uninfected': 1}"
            ]
          },
          "metadata": {},
          "execution_count": 37
        }
      ],
      "source": [
        "train_image_gen.class_indices"
      ]
    },
    {
      "cell_type": "code",
      "execution_count": null,
      "metadata": {
        "id": "rHyAhUHrlXj7"
      },
      "outputs": [],
      "source": [
        "import warnings\n",
        "warnings.filterwarnings('ignore')"
      ]
    },
    {
      "cell_type": "code",
      "execution_count": null,
      "metadata": {
        "colab": {
          "base_uri": "https://localhost:8080/"
        },
        "id": "zylvy1pOlXj8",
        "outputId": "cd8b73b1-f3da-41c8-86b8-873eb4b377a7",
        "scrolled": true
      },
      "outputs": [
        {
          "output_type": "stream",
          "name": "stdout",
          "text": [
            "Epoch 1/20\n",
            "1561/1561 [==============================] - 3768s 2s/step - loss: 0.3986 - accuracy: 0.8190 - val_loss: 0.1922 - val_accuracy: 0.9300\n",
            "Epoch 2/20\n",
            "1561/1561 [==============================] - 818s 524ms/step - loss: 0.1909 - accuracy: 0.9399 - val_loss: 0.1720 - val_accuracy: 0.9423\n",
            "Epoch 3/20\n",
            "1561/1561 [==============================] - 803s 515ms/step - loss: 0.1729 - accuracy: 0.9473 - val_loss: 0.1645 - val_accuracy: 0.9431\n",
            "Epoch 4/20\n",
            "1561/1561 [==============================] - 806s 516ms/step - loss: 0.1661 - accuracy: 0.9478 - val_loss: 0.1673 - val_accuracy: 0.9438\n",
            "Epoch 5/20\n",
            "1561/1561 [==============================] - 810s 519ms/step - loss: 0.1585 - accuracy: 0.9494 - val_loss: 0.1578 - val_accuracy: 0.9419\n",
            "Epoch 6/20\n",
            "1561/1561 [==============================] - 809s 518ms/step - loss: 0.1567 - accuracy: 0.9507 - val_loss: 0.1492 - val_accuracy: 0.9477\n",
            "Epoch 7/20\n",
            "1561/1561 [==============================] - 810s 519ms/step - loss: 0.1559 - accuracy: 0.9507 - val_loss: 0.1611 - val_accuracy: 0.9485\n",
            "Epoch 8/20\n",
            "1561/1561 [==============================] - 804s 515ms/step - loss: 0.1521 - accuracy: 0.9508 - val_loss: 0.1534 - val_accuracy: 0.9488\n"
          ]
        }
      ],
      "source": [
        "results = model.fit_generator(train_image_gen,epochs=20,\n",
        "                              validation_data=test_image_gen,\n",
        "                             callbacks=[early_stop])"
      ]
    },
    {
      "cell_type": "code",
      "source": [
        "from google.colab import drive\n",
        "drive.mount('/content/drive')"
      ],
      "metadata": {
        "colab": {
          "base_uri": "https://localhost:8080/"
        },
        "id": "vjDak3ifGMAd",
        "outputId": "5c2b77c7-de92-479e-935d-7537bc6143c7"
      },
      "execution_count": null,
      "outputs": [
        {
          "output_type": "stream",
          "name": "stdout",
          "text": [
            "Drive already mounted at /content/drive; to attempt to forcibly remount, call drive.mount(\"/content/drive\", force_remount=True).\n"
          ]
        }
      ]
    },
    {
      "cell_type": "code",
      "source": [],
      "metadata": {
        "id": "VJG3fMUrGxuh"
      },
      "execution_count": null,
      "outputs": []
    },
    {
      "cell_type": "markdown",
      "source": [
        "# New Section"
      ],
      "metadata": {
        "id": "YaszQSwQGP-N"
      }
    },
    {
      "cell_type": "code",
      "execution_count": null,
      "metadata": {
        "id": "MAc-eRltlXj9"
      },
      "outputs": [],
      "source": [
        "from tensorflow.keras.models import load_model\n",
        "model.save('/content/drive/MyDrive/Deep Learning/malaria_detector.h5')\n",
        "# model.save('./drive/My Drive/malaria_detector.h5')"
      ]
    },
    {
      "cell_type": "markdown",
      "metadata": {
        "id": "prg3q1XhlXj9"
      },
      "source": [
        "# Evaluating the Model"
      ]
    },
    {
      "cell_type": "markdown",
      "source": [],
      "metadata": {
        "id": "AgVn66S3HBtP"
      }
    },
    {
      "cell_type": "code",
      "execution_count": null,
      "metadata": {
        "id": "yUaFp51hlXj9"
      },
      "outputs": [],
      "source": [
        "losses = pd.DataFrame(model.history.history)"
      ]
    },
    {
      "cell_type": "code",
      "execution_count": null,
      "metadata": {
        "colab": {
          "base_uri": "https://localhost:8080/",
          "height": 282
        },
        "id": "N3alkiqFlXj-",
        "outputId": "e60ba9c6-3003-4092-8572-db7f9479d8bb"
      },
      "outputs": [
        {
          "output_type": "execute_result",
          "data": {
            "text/plain": [
              "<matplotlib.axes._subplots.AxesSubplot at 0x7fe170ce7d90>"
            ]
          },
          "metadata": {},
          "execution_count": 43
        },
        {
          "output_type": "display_data",
          "data": {
            "text/plain": [
              "<Figure size 432x288 with 1 Axes>"
            ],
            "image/png": "[encoded data removed]"
          },
          "metadata": {
            "needs_background": "light"
          }
        }
      ],
      "source": [
        "losses[['loss','val_loss']].plot()"
      ]
    },
    {
      "cell_type": "code",
      "execution_count": null,
      "metadata": {
        "colab": {
          "base_uri": "https://localhost:8080/"
        },
        "id": "bs1YdtjClXj_",
        "outputId": "1268ec6b-bd70-44e3-cfbb-cbae9e7d4053"
      },
      "outputs": [
        {
          "output_type": "execute_result",
          "data": {
            "text/plain": [
              "['loss', 'accuracy']"
            ]
          },
          "metadata": {},
          "execution_count": 44
        }
      ],
      "source": [
        "model.metrics_names"
      ]
    },
    {
      "cell_type": "code",
      "execution_count": null,
      "metadata": {
        "colab": {
          "base_uri": "https://localhost:8080/"
        },
        "id": "xCO5xhM7lXj_",
        "outputId": "fab6b6a4-8174-4406-9397-2ac20f278f90"
      },
      "outputs": [
        {
          "output_type": "execute_result",
          "data": {
            "text/plain": [
              "[0.1546924114227295, 0.9480769038200378]"
            ]
          },
          "metadata": {},
          "execution_count": 45
        }
      ],
      "source": [
        "model.evaluate_generator(test_image_gen)"
      ]
    },
    {
      "cell_type": "code",
      "execution_count": null,
      "metadata": {
        "id": "H3Y9EAahlXkA"
      },
      "outputs": [],
      "source": [
        "from tensorflow.keras.preprocessing import image"
      ]
    },
    {
      "cell_type": "code",
      "execution_count": null,
      "metadata": {
        "id": "FuR7f7ZslXkA"
      },
      "outputs": [],
      "source": [
        "# https://datascience.stackexchange.com/questions/13894/how-to-get-predictions-with-predict-generator-on-streaming-test-data-in-keras\n",
        "pred_probabilities = model.predict_generator(test_image_gen)"
      ]
    },
    {
      "cell_type": "code",
      "execution_count": null,
      "metadata": {
        "colab": {
          "base_uri": "https://localhost:8080/"
        },
        "id": "zjgKkr8-lXkB",
        "outputId": "093cc606-a8cc-48b9-e438-67c4aa5d25d9"
      },
      "outputs": [
        {
          "output_type": "execute_result",
          "data": {
            "text/plain": [
              "array([[7.6438196e-04],\n",
              "       [9.7439530e-05],\n",
              "       [2.1046303e-04],\n",
              "       ...,\n",
              "       [9.9374229e-01],\n",
              "       [9.9063301e-01],\n",
              "       [9.7339839e-01]], dtype=float32)"
            ]
          },
          "metadata": {},
          "execution_count": 48
        }
      ],
      "source": [
        "pred_probabilities"
      ]
    },
    {
      "cell_type": "code",
      "execution_count": null,
      "metadata": {
        "colab": {
          "base_uri": "https://localhost:8080/"
        },
        "id": "hGLExL46lXkC",
        "outputId": "b7dad1fc-a604-47ab-9463-00fc925f4b7c"
      },
      "outputs": [
        {
          "output_type": "execute_result",
          "data": {
            "text/plain": [
              "array([0, 0, 0, ..., 1, 1, 1], dtype=int32)"
            ]
          },
          "metadata": {},
          "execution_count": 49
        }
      ],
      "source": [
        "test_image_gen.classes"
      ]
    },
    {
      "cell_type": "code",
      "execution_count": null,
      "metadata": {
        "id": "a-h5ZWC2lXkD"
      },
      "outputs": [],
      "source": [
        "predictions = pred_probabilities > 0.5"
      ]
    },
    {
      "cell_type": "code",
      "execution_count": null,
      "metadata": {
        "colab": {
          "base_uri": "https://localhost:8080/"
        },
        "id": "e5FUFUKFlXkE",
        "outputId": "7e87c7db-3115-4a7f-fd03-d0282a35be2e"
      },
      "outputs": [
        {
          "output_type": "execute_result",
          "data": {
            "text/plain": [
              "array([[False],\n",
              "       [False],\n",
              "       [False],\n",
              "       ...,\n",
              "       [ True],\n",
              "       [ True],\n",
              "       [ True]])"
            ]
          },
          "metadata": {},
          "execution_count": 51
        }
      ],
      "source": [
        "# Numpy can treat this as True/False for us\n",
        "predictions"
      ]
    },
    {
      "cell_type": "code",
      "execution_count": null,
      "metadata": {
        "id": "3vK0o2u7lXkE"
      },
      "outputs": [],
      "source": [
        "from sklearn.metrics import classification_report,confusion_matrix"
      ]
    },
    {
      "cell_type": "code",
      "execution_count": null,
      "metadata": {
        "colab": {
          "base_uri": "https://localhost:8080/"
        },
        "id": "BrDtR85plXkF",
        "outputId": "cd0bc5b5-66c1-4a50-939d-df4c80c8bbfd"
      },
      "outputs": [
        {
          "output_type": "stream",
          "name": "stdout",
          "text": [
            "              precision    recall  f1-score   support\n",
            "\n",
            "           0       0.97      0.91      0.94      1300\n",
            "           1       0.92      0.97      0.95      1300\n",
            "\n",
            "    accuracy                           0.94      2600\n",
            "   macro avg       0.95      0.94      0.94      2600\n",
            "weighted avg       0.95      0.94      0.94      2600\n",
            "\n"
          ]
        }
      ],
      "source": [
        "print(classification_report(test_image_gen.classes,predictions))"
      ]
    },
    {
      "cell_type": "code",
      "execution_count": null,
      "metadata": {
        "colab": {
          "base_uri": "https://localhost:8080/"
        },
        "id": "aLbXKdbOlXkF",
        "outputId": "9711d582-3d7e-4bdb-ee0e-c4ba5ffa5645"
      },
      "outputs": [
        {
          "output_type": "execute_result",
          "data": {
            "text/plain": [
              "array([[1188,  112],\n",
              "       [  33, 1267]])"
            ]
          },
          "metadata": {},
          "execution_count": 54
        }
      ],
      "source": [
        "confusion_matrix(test_image_gen.classes,predictions)"
      ]
    },
    {
      "cell_type": "markdown",
      "metadata": {
        "id": "Pn-7otyHlXkH"
      },
      "source": [
        "# Predicting on an Image"
      ]
    },
    {
      "cell_type": "code",
      "execution_count": null,
      "metadata": {
        "colab": {
          "base_uri": "https://localhost:8080/",
          "height": 35
        },
        "id": "0fw58_ySlXkH",
        "outputId": "3c8af572-098a-4910-920d-efe1aeb67bc1"
      },
      "outputs": [
        {
          "output_type": "execute_result",
          "data": {
            "text/plain": [
              "'/content/drive/MyDrive/Deep Learning/cell_images/cell_images/train//parasitized/C100P61ThinF_IMG_20150918_144104_cell_162.png'"
            ],
            "application/vnd.google.colaboratory.intrinsic+json": {
              "type": "string"
            }
          },
          "metadata": {},
          "execution_count": 55
        }
      ],
      "source": [
        "\n",
        "para_cell"
      ]
    },
    {
      "cell_type": "code",
      "execution_count": null,
      "metadata": {
        "id": "L-VtZrKPlXkI"
      },
      "outputs": [],
      "source": [
        "my_image = image.load_img(para_cell,target_size=image_shape)"
      ]
    },
    {
      "cell_type": "code",
      "execution_count": null,
      "metadata": {
        "colab": {
          "base_uri": "https://localhost:8080/",
          "height": 147
        },
        "id": "r7TKcVX5lXkI",
        "outputId": "977b05d6-67c6-4f03-fee3-2031a53d41e0"
      },
      "outputs": [
        {
          "output_type": "execute_result",
          "data": {
            "text/plain": [
              "<PIL.Image.Image image mode=RGB size=130x130 at 0x7FE16D9CEF50>"
            ],
            "image/png": "[encoded data removed]"
          },
          "metadata": {},
          "execution_count": 57
        }
      ],
      "source": [
        "my_image"
      ]
    },
    {
      "cell_type": "code",
      "execution_count": null,
      "metadata": {
        "colab": {
          "base_uri": "https://localhost:8080/"
        },
        "id": "q-zPovRClXkJ",
        "outputId": "d77d91cd-bb36-48c1-c9ad-fd28a8af2461"
      },
      "outputs": [
        {
          "output_type": "execute_result",
          "data": {
            "text/plain": [
              "PIL.Image.Image"
            ]
          },
          "metadata": {},
          "execution_count": 58
        }
      ],
      "source": [
        "type(my_image)"
      ]
    },
    {
      "cell_type": "code",
      "execution_count": null,
      "metadata": {
        "id": "dWeNVrDslXkK"
      },
      "outputs": [],
      "source": [
        "my_image = image.img_to_array(my_image)"
      ]
    },
    {
      "cell_type": "code",
      "execution_count": null,
      "metadata": {
        "colab": {
          "base_uri": "https://localhost:8080/"
        },
        "id": "pyX5-AvxlXkK",
        "outputId": "e5f91c8c-877a-4c2e-be73-b35f3334646f"
      },
      "outputs": [
        {
          "output_type": "execute_result",
          "data": {
            "text/plain": [
              "numpy.ndarray"
            ]
          },
          "metadata": {},
          "execution_count": 60
        }
      ],
      "source": [
        "type(my_image)"
      ]
    },
    {
      "cell_type": "code",
      "execution_count": null,
      "metadata": {
        "colab": {
          "base_uri": "https://localhost:8080/"
        },
        "id": "PVdTf5bclXkL",
        "outputId": "19dcd6a7-699b-41d3-f7eb-ea31be60eeed"
      },
      "outputs": [
        {
          "output_type": "execute_result",
          "data": {
            "text/plain": [
              "(130, 130, 3)"
            ]
          },
          "metadata": {},
          "execution_count": 61
        }
      ],
      "source": [
        "my_image.shape"
      ]
    },
    {
      "cell_type": "code",
      "execution_count": null,
      "metadata": {
        "id": "hdu68ktglXkL"
      },
      "outputs": [],
      "source": [
        "my_image = np.expand_dims(my_image, axis=0)"
      ]
    },
    {
      "cell_type": "code",
      "execution_count": null,
      "metadata": {
        "colab": {
          "base_uri": "https://localhost:8080/"
        },
        "id": "rNw-gE-RlXkL",
        "outputId": "e85bff41-5585-4bb7-b1cf-f9d589bb64ed"
      },
      "outputs": [
        {
          "output_type": "execute_result",
          "data": {
            "text/plain": [
              "(1, 130, 130, 3)"
            ]
          },
          "metadata": {},
          "execution_count": 63
        }
      ],
      "source": [
        "my_image.shape"
      ]
    },
    {
      "cell_type": "code",
      "execution_count": null,
      "metadata": {
        "colab": {
          "base_uri": "https://localhost:8080/"
        },
        "id": "nSvxMTgFlXkM",
        "outputId": "8c7b1e31-14e5-43bb-aa9c-0be5e4784378"
      },
      "outputs": [
        {
          "output_type": "stream",
          "name": "stdout",
          "text": [
            "1/1 [==============================] - 0s 103ms/step\n"
          ]
        },
        {
          "output_type": "execute_result",
          "data": {
            "text/plain": [
              "array([[0.]], dtype=float32)"
            ]
          },
          "metadata": {},
          "execution_count": 64
        }
      ],
      "source": [
        "model.predict(my_image)"
      ]
    },
    {
      "cell_type": "code",
      "execution_count": null,
      "metadata": {
        "colab": {
          "base_uri": "https://localhost:8080/"
        },
        "id": "Y4DHJLlPlXkN",
        "outputId": "0c7c86b9-bc5a-46b5-b576-cca42723f1fe"
      },
      "outputs": [
        {
          "output_type": "execute_result",
          "data": {
            "text/plain": [
              "{'parasitized': 0, 'uninfected': 1}"
            ]
          },
          "metadata": {},
          "execution_count": 65
        }
      ],
      "source": [
        "train_image_gen.class_indices"
      ]
    },
    {
      "cell_type": "code",
      "execution_count": null,
      "metadata": {
        "colab": {
          "base_uri": "https://localhost:8080/"
        },
        "id": "Z1ZFoVIllXkO",
        "outputId": "4ffc9670-496c-475f-9726-78b931063f5a"
      },
      "outputs": [
        {
          "output_type": "execute_result",
          "data": {
            "text/plain": [
              "{'parasitized': 0, 'uninfected': 1}"
            ]
          },
          "metadata": {},
          "execution_count": 66
        }
      ],
      "source": [
        "test_image_gen.class_indices"
      ]
    },
    {
      "cell_type": "markdown",
      "metadata": {
        "id": "lJA8TA1Aly_O"
      },
      "source": [
        "**Deployment using Streamlit**"
      ]
    },
    {
      "cell_type": "code",
      "execution_count": null,
      "metadata": {
        "colab": {
          "base_uri": "https://localhost:8080/"
        },
        "id": "OQektUNYatQt",
        "outputId": "b4cd4bc3-89f5-4b68-e91f-ee243564848f"
      },
      "outputs": [
        {
          "output_type": "stream",
          "name": "stdout",
          "text": [
            "Looking in indexes: https://pypi.org/simple, https://us-python.pkg.dev/colab-wheels/public/simple/\n",
            "Collecting streamlit\n",
            "  Downloading streamlit-1.14.0-py2.py3-none-any.whl (9.2 MB)\n",
            "\u001b[K     |████████████████████████████████| 9.2 MB 6.8 MB/s \n",
            "\u001b[?25hRequirement already satisfied: numpy in /usr/local/lib/python3.7/dist-packages (from streamlit) (1.21.6)\n",
            "Requirement already satisfied: cachetools>=4.0 in /usr/local/lib/python3.7/dist-packages (from streamlit) (4.2.4)\n",
            "Requirement already satisfied: requests>=2.4 in /usr/local/lib/python3.7/dist-packages (from streamlit) (2.23.0)\n",
            "Requirement already satisfied: click>=7.0 in /usr/local/lib/python3.7/dist-packages (from streamlit) (7.1.2)\n",
            "Requirement already satisfied: pillow>=6.2.0 in /usr/local/lib/python3.7/dist-packages (from streamlit) (7.1.2)\n",
            "Requirement already satisfied: protobuf<4,>=3.12 in /usr/local/lib/python3.7/dist-packages (from streamlit) (3.17.3)\n",
            "Requirement already satisfied: python-dateutil in /usr/local/lib/python3.7/dist-packages (from streamlit) (2.8.2)\n",
            "Requirement already satisfied: typing-extensions>=3.10.0.0 in /usr/local/lib/python3.7/dist-packages (from streamlit) (4.1.1)\n",
            "Collecting semver\n",
            "  Downloading semver-2.13.0-py2.py3-none-any.whl (12 kB)\n",
            "Requirement already satisfied: altair>=3.2.0 in /usr/local/lib/python3.7/dist-packages (from streamlit) (4.2.0)\n",
            "Requirement already satisfied: pandas>=0.21.0 in /usr/local/lib/python3.7/dist-packages (from streamlit) (1.3.5)\n",
            "Collecting rich>=10.11.0\n",
            "  Downloading rich-12.6.0-py3-none-any.whl (237 kB)\n",
            "\u001b[K     |████████████████████████████████| 237 kB 64.2 MB/s \n",
            "\u001b[?25hCollecting blinker>=1.0.0\n",
            "  Downloading blinker-1.5-py2.py3-none-any.whl (12 kB)\n",
            "Requirement already satisfied: tornado>=5.0 in /usr/local/lib/python3.7/dist-packages (from streamlit) (5.1.1)\n",
            "Requirement already satisfied: pyarrow>=4.0 in /usr/local/lib/python3.7/dist-packages (from streamlit) (6.0.1)\n",
            "Collecting pydeck>=0.1.dev5\n",
            "  Downloading pydeck-0.8.0b4-py2.py3-none-any.whl (4.7 MB)\n",
            "\u001b[K     |████████████████████████████████| 4.7 MB 43.4 MB/s \n",
            "\u001b[?25hRequirement already satisfied: toml in /usr/local/lib/python3.7/dist-packages (from streamlit) (0.10.2)\n",
            "Collecting pympler>=0.9\n",
            "  Downloading Pympler-1.0.1-py3-none-any.whl (164 kB)\n",
            "\u001b[K     |████████████████████████████████| 164 kB 64.1 MB/s \n",
            "\u001b[?25hRequirement already satisfied: importlib-metadata>=1.4 in /usr/local/lib/python3.7/dist-packages (from streamlit) (4.13.0)\n",
            "Collecting gitpython!=3.1.19\n",
            "  Downloading GitPython-3.1.29-py3-none-any.whl (182 kB)\n",
            "\u001b[K     |████████████████████████████████| 182 kB 58.4 MB/s \n",
            "\u001b[?25hRequirement already satisfied: packaging>=14.1 in /usr/local/lib/python3.7/dist-packages (from streamlit) (21.3)\n",
            "Collecting validators>=0.2\n",
            "  Downloading validators-0.20.0.tar.gz (30 kB)\n",
            "Requirement already satisfied: tzlocal>=1.1 in /usr/local/lib/python3.7/dist-packages (from streamlit) (1.5.1)\n",
            "Collecting watchdog\n",
            "  Downloading watchdog-2.1.9-py3-none-manylinux2014_x86_64.whl (78 kB)\n",
            "\u001b[K     |████████████████████████████████| 78 kB 8.1 MB/s \n",
            "\u001b[?25hRequirement already satisfied: jsonschema>=3.0 in /usr/local/lib/python3.7/dist-packages (from altair>=3.2.0->streamlit) (4.3.3)\n",
            "Requirement already satisfied: toolz in /usr/local/lib/python3.7/dist-packages (from altair>=3.2.0->streamlit) (0.12.0)\n",
            "Requirement already satisfied: entrypoints in /usr/local/lib/python3.7/dist-packages (from altair>=3.2.0->streamlit) (0.4)\n",
            "Requirement already satisfied: jinja2 in /usr/local/lib/python3.7/dist-packages (from altair>=3.2.0->streamlit) (2.11.3)\n",
            "Collecting gitdb<5,>=4.0.1\n",
            "  Downloading gitdb-4.0.9-py3-none-any.whl (63 kB)\n",
            "\u001b[K     |████████████████████████████████| 63 kB 1.5 MB/s \n",
            "\u001b[?25hCollecting smmap<6,>=3.0.1\n",
            "  Downloading smmap-5.0.0-py3-none-any.whl (24 kB)\n",
            "Requirement already satisfied: zipp>=0.5 in /usr/local/lib/python3.7/dist-packages (from importlib-metadata>=1.4->streamlit) (3.10.0)\n",
            "Requirement already satisfied: pyrsistent!=0.17.0,!=0.17.1,!=0.17.2,>=0.14.0 in /usr/local/lib/python3.7/dist-packages (from jsonschema>=3.0->altair>=3.2.0->streamlit) (0.18.1)\n",
            "Requirement already satisfied: importlib-resources>=1.4.0 in /usr/local/lib/python3.7/dist-packages (from jsonschema>=3.0->altair>=3.2.0->streamlit) (5.10.0)\n",
            "Requirement already satisfied: attrs>=17.4.0 in /usr/local/lib/python3.7/dist-packages (from jsonschema>=3.0->altair>=3.2.0->streamlit) (22.1.0)\n",
            "Requirement already satisfied: pyparsing!=3.0.5,>=2.0.2 in /usr/local/lib/python3.7/dist-packages (from packaging>=14.1->streamlit) (3.0.9)\n",
            "Requirement already satisfied: pytz>=2017.3 in /usr/local/lib/python3.7/dist-packages (from pandas>=0.21.0->streamlit) (2022.5)\n",
            "Requirement already satisfied: six>=1.9 in /usr/local/lib/python3.7/dist-packages (from protobuf<4,>=3.12->streamlit) (1.15.0)\n",
            "Requirement already satisfied: MarkupSafe>=0.23 in /usr/local/lib/python3.7/dist-packages (from jinja2->altair>=3.2.0->streamlit) (2.0.1)\n",
            "Requirement already satisfied: chardet<4,>=3.0.2 in /usr/local/lib/python3.7/dist-packages (from requests>=2.4->streamlit) (3.0.4)\n",
            "Requirement already satisfied: certifi>=2017.4.17 in /usr/local/lib/python3.7/dist-packages (from requests>=2.4->streamlit) (2022.9.24)\n",
            "Requirement already satisfied: urllib3!=1.25.0,!=1.25.1,<1.26,>=1.21.1 in /usr/local/lib/python3.7/dist-packages (from requests>=2.4->streamlit) (1.24.3)\n",
            "Requirement already satisfied: idna<3,>=2.5 in /usr/local/lib/python3.7/dist-packages (from requests>=2.4->streamlit) (2.10)\n",
            "Collecting commonmark<0.10.0,>=0.9.0\n",
            "  Downloading commonmark-0.9.1-py2.py3-none-any.whl (51 kB)\n",
            "\u001b[K     |████████████████████████████████| 51 kB 8.3 MB/s \n",
            "\u001b[?25hRequirement already satisfied: pygments<3.0.0,>=2.6.0 in /usr/local/lib/python3.7/dist-packages (from rich>=10.11.0->streamlit) (2.6.1)\n",
            "Requirement already satisfied: decorator>=3.4.0 in /usr/local/lib/python3.7/dist-packages (from validators>=0.2->streamlit) (4.4.2)\n",
            "Building wheels for collected packages: validators\n",
            "  Building wheel for validators (setup.py) ... \u001b[?25l\u001b[?25hdone\n",
            "  Created wheel for validators: filename=validators-0.20.0-py3-none-any.whl size=19582 sha256=a359c03f29e63e580ba0e1c8d2684a718edfd19c9e4ff0671bb37305df7b1fbe\n",
            "  Stored in directory: /root/.cache/pip/wheels/5f/55/ab/36a76989f7f88d9ca7b1f68da6d94252bb6a8d6ad4f18e04e9\n",
            "Successfully built validators\n",
            "Installing collected packages: smmap, gitdb, commonmark, watchdog, validators, semver, rich, pympler, pydeck, gitpython, blinker, streamlit\n",
            "Successfully installed blinker-1.5 commonmark-0.9.1 gitdb-4.0.9 gitpython-3.1.29 pydeck-0.8.0b4 pympler-1.0.1 rich-12.6.0 semver-2.13.0 smmap-5.0.0 streamlit-1.14.0 validators-0.20.0 watchdog-2.1.9\n"
          ]
        }
      ],
      "source": [
        "!pip install streamlit"
      ]
    },
    {
      "cell_type": "code",
      "execution_count": null,
      "metadata": {
        "id": "GAMaMy7MazTc"
      },
      "outputs": [],
      "source": [
        "import streamlit as st\n",
        "from PIL import Image, ImageOps"
      ]
    },
    {
      "cell_type": "code",
      "execution_count": null,
      "metadata": {
        "id": "R1gJacD-bVLk"
      },
      "outputs": [],
      "source": [
        "# Creating webpage header:"
      ]
    },
    {
      "cell_type": "code",
      "execution_count": null,
      "metadata": {
        "colab": {
          "base_uri": "https://localhost:8080/"
        },
        "id": "_Bjbcs-Bc4wj",
        "outputId": "829f3e76-3418-46aa-f95f-04a41761e72b"
      },
      "outputs": [
        {
          "output_type": "stream",
          "name": "stdout",
          "text": []
        },
        {
          "output_type": "stream",
          "name": "stderr",
          "text": [
            "INFO:pyngrok.process:Updating authtoken for default \"config_path\" of \"ngrok_path\": /usr/local/lib/python3.7/dist-packages/pyngrok/bin/ngrok\n",
            "2022-11-04 12:46:54.460 INFO    pyngrok.process: Updating authtoken for default \"config_path\" of \"ngrok_path\": /usr/local/lib/python3.7/dist-packages/pyngrok/bin/ngrok\n"
          ]
        }
      ],
      "source": [
        "ngrok.set_auth_token('2H2uYAFDnrv3aleS5as0bIpmwrU_59PZCqw3SsKoZviNxn9mu')"
      ]
    },
    {
      "cell_type": "code",
      "execution_count": null,
      "metadata": {
        "colab": {
          "base_uri": "https://localhost:8080/"
        },
        "id": "MExC8D1pe_Jp",
        "outputId": "2655f7e0-cae5-47f5-a589-2f41aed67196"
      },
      "outputs": [
        {
          "output_type": "stream",
          "name": "stdout",
          "text": [
            "Looking in indexes: https://pypi.org/simple, https://us-python.pkg.dev/colab-wheels/public/simple/\n",
            "Collecting pyngrok\n",
            "  Downloading pyngrok-5.1.0.tar.gz (745 kB)\n",
            "\u001b[K     |████████████████████████████████| 745 kB 6.5 MB/s \n",
            "\u001b[?25hRequirement already satisfied: PyYAML in /usr/local/lib/python3.7/dist-packages (from pyngrok) (6.0)\n",
            "Building wheels for collected packages: pyngrok\n",
            "  Building wheel for pyngrok (setup.py) ... \u001b[?25l\u001b[?25hdone\n",
            "  Created wheel for pyngrok: filename=pyngrok-5.1.0-py3-none-any.whl size=19007 sha256=5e49fd5acc1c127a7cc9009ef384b8c5ae6e32ce5525776ed8eaf92d1b3114e4\n",
            "  Stored in directory: /root/.cache/pip/wheels/bf/e6/af/ccf6598ecefecd44104069371795cb9b3afbcd16987f6ccfb3\n",
            "Successfully built pyngrok\n",
            "Installing collected packages: pyngrok\n",
            "Successfully installed pyngrok-5.1.0\n"
          ]
        }
      ],
      "source": [
        "!pip install pyngrok"
      ]
    },
    {
      "cell_type": "code",
      "source": [
        "from pyngrok import ngrok"
      ],
      "metadata": {
        "id": "3r2J33o1rdBC"
      },
      "execution_count": null,
      "outputs": []
    },
    {
      "cell_type": "code",
      "source": [
        "!nohup streamlit run streamlit_app.py --server.port 80 &\n",
        "public_url = ngrok.connect(port='80')\n",
        "public_url"
      ],
      "metadata": {
        "colab": {
          "base_uri": "https://localhost:8080/"
        },
        "id": "gd3HByVU6jD8",
        "outputId": "310b1fb4-650f-4200-add4-f257062f2245"
      },
      "execution_count": null,
      "outputs": [
        {
          "output_type": "stream",
          "name": "stdout",
          "text": [
            "nohup: appending output to 'nohup.out'\n"
          ]
        },
        {
          "output_type": "stream",
          "name": "stderr",
          "text": [
            "INFO:pyngrok.ngrok:Opening tunnel named: http-80-70aa1372-0a20-4d89-a966-1cba148fa768\n",
            "2022-11-04 13:20:59.020 INFO    pyngrok.ngrok: Opening tunnel named: http-80-70aa1372-0a20-4d89-a966-1cba148fa768\n",
            "INFO:pyngrok.process.ngrok:t=2022-11-04T13:20:59+0000 lvl=info msg=\"no configuration paths supplied\"\n",
            "2022-11-04 13:20:59.112 INFO    pyngrok.process.ngrok: t=2022-11-04T13:20:59+0000 lvl=info msg=\"no configuration paths supplied\"\n",
            "INFO:pyngrok.process.ngrok:t=2022-11-04T13:20:59+0000 lvl=info msg=\"using configuration at default config path\" path=/root/.ngrok2/ngrok.yml\n",
            "2022-11-04 13:20:59.120 INFO    pyngrok.process.ngrok: t=2022-11-04T13:20:59+0000 lvl=info msg=\"using configuration at default config path\" path=/root/.ngrok2/ngrok.yml\n",
            "INFO:pyngrok.process.ngrok:t=2022-11-04T13:20:59+0000 lvl=info msg=\"open config file\" path=/root/.ngrok2/ngrok.yml err=nil\n",
            "2022-11-04 13:20:59.125 INFO    pyngrok.process.ngrok: t=2022-11-04T13:20:59+0000 lvl=info msg=\"open config file\" path=/root/.ngrok2/ngrok.yml err=nil\n",
            "INFO:pyngrok.process.ngrok:t=2022-11-04T13:20:59+0000 lvl=info msg=\"starting web service\" obj=web addr=127.0.0.1:4040\n",
            "2022-11-04 13:20:59.142 INFO    pyngrok.process.ngrok: t=2022-11-04T13:20:59+0000 lvl=info msg=\"starting web service\" obj=web addr=127.0.0.1:4040\n",
            "INFO:pyngrok.process.ngrok:t=2022-11-04T13:20:59+0000 lvl=info msg=\"tunnel session started\" obj=tunnels.session\n",
            "2022-11-04 13:20:59.402 INFO    pyngrok.process.ngrok: t=2022-11-04T13:20:59+0000 lvl=info msg=\"tunnel session started\" obj=tunnels.session\n",
            "INFO:pyngrok.process.ngrok:t=2022-11-04T13:20:59+0000 lvl=info msg=\"client session established\" obj=csess id=ee15f90e9776\n",
            "2022-11-04 13:20:59.408 INFO    pyngrok.process.ngrok: t=2022-11-04T13:20:59+0000 lvl=info msg=\"client session established\" obj=csess id=ee15f90e9776\n",
            "INFO:pyngrok.process.ngrok:t=2022-11-04T13:20:59+0000 lvl=info msg=start pg=/api/tunnels id=c65f5507d8edf1a8\n",
            "2022-11-04 13:20:59.425 INFO    pyngrok.process.ngrok: t=2022-11-04T13:20:59+0000 lvl=info msg=start pg=/api/tunnels id=c65f5507d8edf1a8\n",
            "INFO:pyngrok.process.ngrok:t=2022-11-04T13:20:59+0000 lvl=info msg=end pg=/api/tunnels id=c65f5507d8edf1a8 status=200 dur=458.528µs\n",
            "2022-11-04 13:20:59.430 INFO    pyngrok.process.ngrok: t=2022-11-04T13:20:59+0000 lvl=info msg=end pg=/api/tunnels id=c65f5507d8edf1a8 status=200 dur=458.528µs\n",
            "INFO:pyngrok.process.ngrok:t=2022-11-04T13:20:59+0000 lvl=info msg=start pg=/api/tunnels id=88a38a7c836f5dfd\n",
            "2022-11-04 13:20:59.434 INFO    pyngrok.process.ngrok: t=2022-11-04T13:20:59+0000 lvl=info msg=start pg=/api/tunnels id=88a38a7c836f5dfd\n",
            "INFO:pyngrok.process.ngrok:t=2022-11-04T13:20:59+0000 lvl=info msg=end pg=/api/tunnels id=88a38a7c836f5dfd status=200 dur=168.55µs\n",
            "2022-11-04 13:20:59.438 INFO    pyngrok.process.ngrok: t=2022-11-04T13:20:59+0000 lvl=info msg=end pg=/api/tunnels id=88a38a7c836f5dfd status=200 dur=168.55µs\n",
            "INFO:pyngrok.process.ngrok:t=2022-11-04T13:20:59+0000 lvl=info msg=start pg=/api/tunnels id=65e6ddbab6e01959\n",
            "2022-11-04 13:20:59.442 INFO    pyngrok.process.ngrok: t=2022-11-04T13:20:59+0000 lvl=info msg=start pg=/api/tunnels id=65e6ddbab6e01959\n",
            "INFO:pyngrok.process.ngrok:t=2022-11-04T13:20:59+0000 lvl=info msg=\"started tunnel\" obj=tunnels name=\"http-80-70aa1372-0a20-4d89-a966-1cba148fa768 (http)\" addr=http://localhost:80 url=http://f41d-34-125-96-0.ngrok.io\n",
            "2022-11-04 13:20:59.582 INFO    pyngrok.process.ngrok: t=2022-11-04T13:20:59+0000 lvl=info msg=\"started tunnel\" obj=tunnels name=\"http-80-70aa1372-0a20-4d89-a966-1cba148fa768 (http)\" addr=http://localhost:80 url=http://f41d-34-125-96-0.ngrok.io\n",
            "INFO:pyngrok.process.ngrok:t=2022-11-04T13:20:59+0000 lvl=info msg=\"started tunnel\" obj=tunnels name=http-80-70aa1372-0a20-4d89-a966-1cba148fa768 addr=http://localhost:80 url=https://f41d-34-125-96-0.ngrok.io\n",
            "2022-11-04 13:20:59.594 INFO    pyngrok.process.ngrok: t=2022-11-04T13:20:59+0000 lvl=info msg=\"started tunnel\" obj=tunnels name=http-80-70aa1372-0a20-4d89-a966-1cba148fa768 addr=http://localhost:80 url=https://f41d-34-125-96-0.ngrok.io\n",
            "INFO:pyngrok.process.ngrok:t=2022-11-04T13:20:59+0000 lvl=info msg=end pg=/api/tunnels id=65e6ddbab6e01959 status=201 dur=171.803149ms\n"
          ]
        },
        {
          "output_type": "execute_result",
          "data": {
            "text/plain": [
              "<NgrokTunnel: \"http://f41d-34-125-96-0.ngrok.io\" -> \"http://localhost:80\">"
            ]
          },
          "metadata": {},
          "execution_count": 84
        },
        {
          "output_type": "stream",
          "name": "stderr",
          "text": [
            "2022-11-04 13:20:59.610 INFO    pyngrok.process.ngrok: t=2022-11-04T13:20:59+0000 lvl=info msg=end pg=/api/tunnels id=65e6ddbab6e01959 status=201 dur=171.803149ms\n",
            "INFO:pyngrok.process.ngrok:t=2022-11-04T13:20:59+0000 lvl=info msg=start pg=\"/api/tunnels/http-80-70aa1372-0a20-4d89-a966-1cba148fa768 (http)\" id=50fda721ab6e57c2\n",
            "2022-11-04 13:20:59.620 INFO    pyngrok.process.ngrok: t=2022-11-04T13:20:59+0000 lvl=info msg=start pg=\"/api/tunnels/http-80-70aa1372-0a20-4d89-a966-1cba148fa768 (http)\" id=50fda721ab6e57c2\n",
            "INFO:pyngrok.process.ngrok:t=2022-11-04T13:20:59+0000 lvl=info msg=end pg=\"/api/tunnels/http-80-70aa1372-0a20-4d89-a966-1cba148fa768 (http)\" id=50fda721ab6e57c2 status=200 dur=206.231µs\n",
            "2022-11-04 13:20:59.632 INFO    pyngrok.process.ngrok: t=2022-11-04T13:20:59+0000 lvl=info msg=end pg=\"/api/tunnels/http-80-70aa1372-0a20-4d89-a966-1cba148fa768 (http)\" id=50fda721ab6e57c2 status=200 dur=206.231µs\n"
          ]
        }
      ]
    },
    {
      "cell_type": "code",
      "source": [
        "from pyngrok import ngrok\n",
        "tunnels = ngrok.get_tunnels()\n",
        "tunnels"
      ],
      "metadata": {
        "colab": {
          "base_uri": "https://localhost:8080/"
        },
        "id": "3E4MT09A_u6P",
        "outputId": "462314ed-a9bc-4402-a23e-01ff789478e6"
      },
      "execution_count": null,
      "outputs": [
        {
          "output_type": "stream",
          "name": "stderr",
          "text": [
            "INFO:pyngrok.process.ngrok:t=2022-11-04T13:19:57+0000 lvl=info msg=start pg=/api/tunnels id=5b231e103995a6de\n",
            "2022-11-04 13:19:57.895 INFO    pyngrok.process.ngrok: t=2022-11-04T13:19:57+0000 lvl=info msg=start pg=/api/tunnels id=5b231e103995a6de\n",
            "INFO:pyngrok.process.ngrok:t=2022-11-04T13:19:57+0000 lvl=info msg=end pg=/api/tunnels id=5b231e103995a6de status=200 dur=176.045µs\n"
          ]
        },
        {
          "output_type": "execute_result",
          "data": {
            "text/plain": [
              "[]"
            ]
          },
          "metadata": {},
          "execution_count": 81
        },
        {
          "output_type": "stream",
          "name": "stderr",
          "text": [
            "2022-11-04 13:19:57.900 INFO    pyngrok.process.ngrok: t=2022-11-04T13:19:57+0000 lvl=info msg=end pg=/api/tunnels id=5b231e103995a6de status=200 dur=176.045µs\n"
          ]
        }
      ]
    },
    {
      "cell_type": "code",
      "source": [
        "ngrok.kill()"
      ],
      "metadata": {
        "colab": {
          "base_uri": "https://localhost:8080/"
        },
        "id": "22b-vbk6AMs_",
        "outputId": "160050a0-06b9-433d-85f9-7358ac93f4bd"
      },
      "execution_count": null,
      "outputs": [
        {
          "output_type": "stream",
          "name": "stderr",
          "text": [
            "INFO:pyngrok.process:Killing ngrok process: 10887\n",
            "2022-11-04 13:20:09.048 INFO    pyngrok.process: Killing ngrok process: 10887\n"
          ]
        }
      ]
    },
    {
      "cell_type": "code",
      "execution_count": null,
      "metadata": {
        "colab": {
          "base_uri": "https://localhost:8080/"
        },
        "id": "glYaxp05fW6z",
        "outputId": "03b09326-d987-42ad-dc9e-c17e3f5bbf00"
      },
      "outputs": [
        {
          "output_type": "stream",
          "name": "stdout",
          "text": [
            "Overwriting streamlit_app.py\n"
          ]
        }
      ],
      "source": [
        "%%writefile streamlit_app.py \n",
        "\"\"\"\n",
        "@author: Pauline IC\n",
        "\"\"\"\n",
        "import streamlit as st\n",
        "import tensorflow as tf\n",
        "import numpy as np\n",
        "from PIL import Image, ImageOps\n",
        "st.write(\"\"\"\n",
        "          # Malaria Cell Classification\n",
        "          \"\"\"\n",
        "          )\n",
        "upload_file = st.sidebar.file_uploader(\"Upload Cell Images\", type=\"png\")\n",
        "Generate_pred=st.sidebar.button(\"Predict\")\n",
        "model=tf.keras.models.load_model('/content/drive/MyDrive/Deep Learning/malaria_detector.h5')\n",
        "def import_n_pred(image_data, model):\n",
        "    size = (150,150)\n",
        "    image = ImageOps.fit(image_data, size, Image.ANTIALIAS)\n",
        "    img = np.asarray(image)\n",
        "    reshape=img[np.newaxis,...]\n",
        "    pred = model.predict(reshape)\n",
        "    return pred\n",
        "if Generate_pred:\n",
        "    image=Image.open(upload_file)\n",
        "    with st.beta_expander('Cell Image', expanded = True):\n",
        "        st.image(image, use_column_width=True)\n",
        "    pred=import_n_pred(image, model)\n",
        "    labels = ['Parasitized', 'Uninfected']\n",
        "    st.title(\"Prediction of image is {}\".format(labels[np.argmax(pred)]))"
      ]
    },
    {
      "cell_type": "code",
      "source": [
        "!streamlit run /content/streamlit_app.py & npx localtunnel --port 80"
      ],
      "metadata": {
        "colab": {
          "base_uri": "https://localhost:8080/"
        },
        "id": "T7ROfzSZ6zoh",
        "outputId": "507c9ba1-4620-4a10-9521-9fb99d4bd934"
      },
      "execution_count": null,
      "outputs": [
        {
          "metadata": {
            "tags": null
          },
          "name": "stdout",
          "output_type": "stream",
          "text": [
            "[#######...........] / extract:localtunnel: verb lock using /root/.npm/_locks/s\u001b[0m\u001b[K\n",
            "Collecting usage statistics. To deactivate, set browser.gatherUsageStats to False.\n",
            "\u001b[0m\n",
            "\u001b[K\u001b[?25hnpx: installed 22 in 3.186s\n",
            "your url is: https://gold-lions-obey-34-125-96-0.loca.lt\n",
            "\u001b[0m\n",
            "\u001b[34m\u001b[1m  You can now view your Streamlit app in your browser.\u001b[0m\n",
            "\u001b[0m\n",
            "\u001b[34m  Network URL: \u001b[0m\u001b[1mhttp://172.28.0.2:8501\u001b[0m\n",
            "\u001b[34m  External URL: \u001b[0m\u001b[1mhttp://34.125.96.0:8501\u001b[0m\n",
            "\u001b[0m\n"
          ]
        }
      ]
    },
    {
      "cell_type": "code",
      "source": [
        "!pgrep streamlit"
      ],
      "metadata": {
        "id": "eMakc7M87QuI"
      },
      "execution_count": null,
      "outputs": []
    },
    {
      "cell_type": "code",
      "execution_count": null,
      "metadata": {
        "id": "GBiXl5PShohs"
      },
      "outputs": [],
      "source": []
    }
  ],
  "metadata": {
    "colab": {
      "provenance": [],
      "include_colab_link": true
    },
    "kernelspec": {
      "display_name": "Python 3",
      "language": "python",
      "name": "python3"
    },
    "language_info": {
      "codemirror_mode": {
        "name": "ipython",
        "version": 3
      },
      "file_extension": ".py",
      "mimetype": "text/x-python",
      "name": "python",
      "nbconvert_exporter": "python",
      "pygments_lexer": "ipython3",
      "version": "3.7.4"
    }
  },
  "nbformat": 4,
  "nbformat_minor": 0
}